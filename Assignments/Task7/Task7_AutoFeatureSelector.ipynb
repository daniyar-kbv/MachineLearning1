{
 "cells": [
  {
   "cell_type": "markdown",
   "metadata": {},
   "source": [
    "# Task 7: AutoFeatureSelector Tool\n",
    "## This task is to test your understanding of various Feature Selection methods outlined in the lecture and the ability to apply this knowledge in a real-world dataset to select best features and also to build an automated feature selection tool as your toolkit\n",
    "\n",
    "### Use your knowledge of different feature selector methods to build an Automatic Feature Selection tool\n",
    "- Pearson Correlation\n",
    "- Chi-Square\n",
    "- RFE\n",
    "- Embedded\n",
    "- Tree (Random Forest)\n",
    "- Tree (Light GBM)"
   ]
  },
  {
   "cell_type": "markdown",
   "metadata": {},
   "source": [
    "### Dataset: FIFA 19 Player Skills\n",
    "#### Attributes: FIFA 2019 players attributes like Age, Nationality, Overall, Potential, Club, Value, Wage, Preferred Foot, International Reputation, Weak Foot, Skill Moves, Work Rate, Position, Jersey Number, Joined, Loaned From, Contract Valid Until, Height, Weight, LS, ST, RS, LW, LF, CF, RF, RW, LAM, CAM, RAM, LM, LCM, CM, RCM, RM, LWB, LDM, CDM, RDM, RWB, LB, LCB, CB, RCB, RB, Crossing, Finishing, Heading, Accuracy, ShortPassing, Volleys, Dribbling, Curve, FKAccuracy, LongPassing, BallControl, Acceleration, SprintSpeed, Agility, Reactions, Balance, ShotPower, Jumping, Stamina, Strength, LongShots, Aggression, Interceptions, Positioning, Vision, Penalties, Composure, Marking, StandingTackle, SlidingTackle, GKDiving, GKHandling, GKKicking, GKPositioning, GKReflexes, and Release Clause."
   ]
  },
  {
   "cell_type": "code",
   "execution_count": 9,
   "metadata": {},
   "outputs": [],
   "source": [
    "%matplotlib inline\n",
    "import numpy as np\n",
    "import pandas as pd \n",
    "import seaborn as sns\n",
    "import matplotlib.pyplot as plt\n",
    "import scipy.stats as ss\n",
    "from collections import Counter\n",
    "import math\n",
    "from scipy import stats"
   ]
  },
  {
   "cell_type": "code",
   "execution_count": 10,
   "metadata": {},
   "outputs": [],
   "source": [
    "player_df = pd.read_csv(\"fifa19.csv\")"
   ]
  },
  {
   "cell_type": "code",
   "execution_count": 11,
   "metadata": {},
   "outputs": [],
   "source": [
    "numcols = ['Overall', 'Crossing','Finishing',  'ShortPassing',  'Dribbling','LongPassing', 'BallControl', 'Acceleration','SprintSpeed', 'Agility',  'Stamina','Volleys','FKAccuracy','Reactions','Balance','ShotPower','Strength','LongShots','Aggression','Interceptions']\n",
    "catcols = ['Preferred Foot','Position','Body Type','Nationality','Weak Foot']"
   ]
  },
  {
   "cell_type": "code",
   "execution_count": 12,
   "metadata": {},
   "outputs": [],
   "source": [
    "player_df = player_df[numcols+catcols]"
   ]
  },
  {
   "cell_type": "code",
   "execution_count": 13,
   "metadata": {},
   "outputs": [],
   "source": [
    "traindf = pd.concat([player_df[numcols], pd.get_dummies(player_df[catcols])],axis=1)\n",
    "features = traindf.columns\n",
    "\n",
    "traindf = traindf.dropna()"
   ]
  },
  {
   "cell_type": "code",
   "execution_count": 14,
   "metadata": {},
   "outputs": [],
   "source": [
    "traindf = pd.DataFrame(traindf,columns=features)"
   ]
  },
  {
   "cell_type": "code",
   "execution_count": 15,
   "metadata": {},
   "outputs": [],
   "source": [
    "y = traindf['Overall']>=87\n",
    "X = traindf.copy()\n",
    "del X['Overall']"
   ]
  },
  {
   "cell_type": "code",
   "execution_count": 16,
   "metadata": {},
   "outputs": [
    {
     "data": {
      "text/plain": "   Crossing  Finishing  ShortPassing  Dribbling  LongPassing  BallControl  \\\n0      84.0       95.0          90.0       97.0         87.0         96.0   \n1      84.0       94.0          81.0       88.0         77.0         94.0   \n2      79.0       87.0          84.0       96.0         78.0         95.0   \n3      17.0       13.0          50.0       18.0         51.0         42.0   \n4      93.0       82.0          92.0       86.0         91.0         91.0   \n\n   Acceleration  SprintSpeed  Agility  Stamina  ...  Nationality_Uganda  \\\n0          91.0         86.0     91.0     72.0  ...                   0   \n1          89.0         91.0     87.0     88.0  ...                   0   \n2          94.0         90.0     96.0     81.0  ...                   0   \n3          57.0         58.0     60.0     43.0  ...                   0   \n4          78.0         76.0     79.0     90.0  ...                   0   \n\n   Nationality_Ukraine  Nationality_United Arab Emirates  \\\n0                    0                                 0   \n1                    0                                 0   \n2                    0                                 0   \n3                    0                                 0   \n4                    0                                 0   \n\n   Nationality_United States  Nationality_Uruguay  Nationality_Uzbekistan  \\\n0                          0                    0                       0   \n1                          0                    0                       0   \n2                          0                    0                       0   \n3                          0                    0                       0   \n4                          0                    0                       0   \n\n   Nationality_Venezuela  Nationality_Wales  Nationality_Zambia  \\\n0                      0                  0                   0   \n1                      0                  0                   0   \n2                      0                  0                   0   \n3                      0                  0                   0   \n4                      0                  0                   0   \n\n   Nationality_Zimbabwe  \n0                     0  \n1                     0  \n2                     0  \n3                     0  \n4                     0  \n\n[5 rows x 223 columns]",
      "text/html": "<div>\n<style scoped>\n    .dataframe tbody tr th:only-of-type {\n        vertical-align: middle;\n    }\n\n    .dataframe tbody tr th {\n        vertical-align: top;\n    }\n\n    .dataframe thead th {\n        text-align: right;\n    }\n</style>\n<table border=\"1\" class=\"dataframe\">\n  <thead>\n    <tr style=\"text-align: right;\">\n      <th></th>\n      <th>Crossing</th>\n      <th>Finishing</th>\n      <th>ShortPassing</th>\n      <th>Dribbling</th>\n      <th>LongPassing</th>\n      <th>BallControl</th>\n      <th>Acceleration</th>\n      <th>SprintSpeed</th>\n      <th>Agility</th>\n      <th>Stamina</th>\n      <th>...</th>\n      <th>Nationality_Uganda</th>\n      <th>Nationality_Ukraine</th>\n      <th>Nationality_United Arab Emirates</th>\n      <th>Nationality_United States</th>\n      <th>Nationality_Uruguay</th>\n      <th>Nationality_Uzbekistan</th>\n      <th>Nationality_Venezuela</th>\n      <th>Nationality_Wales</th>\n      <th>Nationality_Zambia</th>\n      <th>Nationality_Zimbabwe</th>\n    </tr>\n  </thead>\n  <tbody>\n    <tr>\n      <th>0</th>\n      <td>84.0</td>\n      <td>95.0</td>\n      <td>90.0</td>\n      <td>97.0</td>\n      <td>87.0</td>\n      <td>96.0</td>\n      <td>91.0</td>\n      <td>86.0</td>\n      <td>91.0</td>\n      <td>72.0</td>\n      <td>...</td>\n      <td>0</td>\n      <td>0</td>\n      <td>0</td>\n      <td>0</td>\n      <td>0</td>\n      <td>0</td>\n      <td>0</td>\n      <td>0</td>\n      <td>0</td>\n      <td>0</td>\n    </tr>\n    <tr>\n      <th>1</th>\n      <td>84.0</td>\n      <td>94.0</td>\n      <td>81.0</td>\n      <td>88.0</td>\n      <td>77.0</td>\n      <td>94.0</td>\n      <td>89.0</td>\n      <td>91.0</td>\n      <td>87.0</td>\n      <td>88.0</td>\n      <td>...</td>\n      <td>0</td>\n      <td>0</td>\n      <td>0</td>\n      <td>0</td>\n      <td>0</td>\n      <td>0</td>\n      <td>0</td>\n      <td>0</td>\n      <td>0</td>\n      <td>0</td>\n    </tr>\n    <tr>\n      <th>2</th>\n      <td>79.0</td>\n      <td>87.0</td>\n      <td>84.0</td>\n      <td>96.0</td>\n      <td>78.0</td>\n      <td>95.0</td>\n      <td>94.0</td>\n      <td>90.0</td>\n      <td>96.0</td>\n      <td>81.0</td>\n      <td>...</td>\n      <td>0</td>\n      <td>0</td>\n      <td>0</td>\n      <td>0</td>\n      <td>0</td>\n      <td>0</td>\n      <td>0</td>\n      <td>0</td>\n      <td>0</td>\n      <td>0</td>\n    </tr>\n    <tr>\n      <th>3</th>\n      <td>17.0</td>\n      <td>13.0</td>\n      <td>50.0</td>\n      <td>18.0</td>\n      <td>51.0</td>\n      <td>42.0</td>\n      <td>57.0</td>\n      <td>58.0</td>\n      <td>60.0</td>\n      <td>43.0</td>\n      <td>...</td>\n      <td>0</td>\n      <td>0</td>\n      <td>0</td>\n      <td>0</td>\n      <td>0</td>\n      <td>0</td>\n      <td>0</td>\n      <td>0</td>\n      <td>0</td>\n      <td>0</td>\n    </tr>\n    <tr>\n      <th>4</th>\n      <td>93.0</td>\n      <td>82.0</td>\n      <td>92.0</td>\n      <td>86.0</td>\n      <td>91.0</td>\n      <td>91.0</td>\n      <td>78.0</td>\n      <td>76.0</td>\n      <td>79.0</td>\n      <td>90.0</td>\n      <td>...</td>\n      <td>0</td>\n      <td>0</td>\n      <td>0</td>\n      <td>0</td>\n      <td>0</td>\n      <td>0</td>\n      <td>0</td>\n      <td>0</td>\n      <td>0</td>\n      <td>0</td>\n    </tr>\n  </tbody>\n</table>\n<p>5 rows × 223 columns</p>\n</div>"
     },
     "execution_count": 16,
     "metadata": {},
     "output_type": "execute_result"
    }
   ],
   "source": [
    "X.head()"
   ]
  },
  {
   "cell_type": "code",
   "execution_count": 17,
   "metadata": {},
   "outputs": [
    {
     "data": {
      "text/plain": "223"
     },
     "execution_count": 17,
     "metadata": {},
     "output_type": "execute_result"
    }
   ],
   "source": [
    "len(X.columns)"
   ]
  },
  {
   "cell_type": "markdown",
   "metadata": {},
   "source": [
    "### Set some fixed set of features"
   ]
  },
  {
   "cell_type": "code",
   "execution_count": 18,
   "metadata": {},
   "outputs": [],
   "source": [
    "feature_name = list(X.columns)\n",
    "# no of maximum features we need to select\n",
    "num_feats=30"
   ]
  },
  {
   "cell_type": "markdown",
   "metadata": {},
   "source": [
    "## Filter Feature Selection - Pearson Correlation"
   ]
  },
  {
   "cell_type": "markdown",
   "metadata": {},
   "source": [
    "### Pearson Correlation function"
   ]
  },
  {
   "cell_type": "code",
   "execution_count": 19,
   "outputs": [],
   "source": [
    "def get_support_feature(feature_names, coefficients, num_feats):\n",
    "    feature_indexes = np.argsort(np.abs(coefficients))[-num_feats:]\n",
    "    cor_support = [index in feature_indexes for index, name in enumerate(feature_names)]\n",
    "    cor_feature = X.iloc[:,feature_indexes].columns.to_list()\n",
    "    return cor_support, cor_feature\n"
   ],
   "metadata": {
    "collapsed": false,
    "pycharm": {
     "name": "#%%\n"
    }
   }
  },
  {
   "cell_type": "code",
   "execution_count": 20,
   "metadata": {},
   "outputs": [],
   "source": [
    "def cor_selector(X, y, num_feats):\n",
    "    feature_names = X.columns.to_list()\n",
    "    coefficients = [np.corrcoef(X[name], y)[0, 1] for name in feature_names]\n",
    "    coefficients = [0 if np.isnan(coef) else coef for coef in coefficients]\n",
    "    return get_support_feature(feature_names, coefficients, num_feats)"
   ]
  },
  {
   "cell_type": "code",
   "execution_count": 21,
   "metadata": {},
   "outputs": [
    {
     "name": "stdout",
     "output_type": "stream",
     "text": [
      "30 selected features\n"
     ]
    }
   ],
   "source": [
    "cor_support, cor_feature = cor_selector(X, y,num_feats)\n",
    "print(str(len(cor_feature)), 'selected features')"
   ]
  },
  {
   "cell_type": "markdown",
   "metadata": {},
   "source": [
    "### List the selected features from Pearson Correlation"
   ]
  },
  {
   "cell_type": "code",
   "execution_count": 22,
   "metadata": {},
   "outputs": [
    {
     "data": {
      "text/plain": "['Nationality_Costa Rica',\n 'Position_LAM',\n 'Nationality_Uruguay',\n 'Acceleration',\n 'SprintSpeed',\n 'Strength',\n 'Nationality_Gabon',\n 'Nationality_Slovenia',\n 'Stamina',\n 'Weak Foot',\n 'Agility',\n 'Crossing',\n 'Nationality_Belgium',\n 'Dribbling',\n 'ShotPower',\n 'LongShots',\n 'Finishing',\n 'BallControl',\n 'FKAccuracy',\n 'LongPassing',\n 'Volleys',\n 'ShortPassing',\n 'Position_RF',\n 'Position_LF',\n 'Body Type_PLAYER_BODY_TYPE_25',\n 'Body Type_Courtois',\n 'Body Type_Neymar',\n 'Body Type_Messi',\n 'Body Type_C. Ronaldo',\n 'Reactions']"
     },
     "execution_count": 22,
     "metadata": {},
     "output_type": "execute_result"
    }
   ],
   "source": [
    "cor_feature"
   ]
  },
  {
   "cell_type": "markdown",
   "metadata": {},
   "source": [
    "## Filter Feature Selection - Chi-Sqaure"
   ]
  },
  {
   "cell_type": "code",
   "execution_count": 23,
   "metadata": {},
   "outputs": [],
   "source": [
    "from sklearn.feature_selection import SelectKBest\n",
    "from sklearn.feature_selection import chi2\n",
    "from sklearn.preprocessing import MinMaxScaler"
   ]
  },
  {
   "cell_type": "markdown",
   "metadata": {},
   "source": [
    "### Chi-Squared Selector function"
   ]
  },
  {
   "cell_type": "code",
   "execution_count": 24,
   "metadata": {},
   "outputs": [],
   "source": [
    "def chi_squared_selector(X, y, num_feats):\n",
    "    feature_names = X.columns.to_list()\n",
    "    selector = SelectKBest(score_func=chi2,\n",
    "                           k=num_feats)\n",
    "    X_norm = MinMaxScaler().fit_transform(X)\n",
    "    top_features = selector.fit(X_norm,y)\n",
    "    coefficients = top_features.scores_\n",
    "    return get_support_feature(feature_names, coefficients, num_feats)"
   ]
  },
  {
   "cell_type": "code",
   "execution_count": 25,
   "metadata": {},
   "outputs": [
    {
     "name": "stdout",
     "output_type": "stream",
     "text": [
      "30 selected features\n"
     ]
    }
   ],
   "source": [
    "chi_support, chi_feature = chi_squared_selector(X, y,num_feats)\n",
    "print(str(len(chi_feature)), 'selected features')"
   ]
  },
  {
   "cell_type": "markdown",
   "metadata": {},
   "source": [
    "### List the selected features from Chi-Square "
   ]
  },
  {
   "cell_type": "code",
   "execution_count": 26,
   "metadata": {},
   "outputs": [
    {
     "data": {
      "text/plain": "['Nationality_England',\n 'BallControl',\n 'ShortPassing',\n 'Nationality_France',\n 'Position_RB',\n 'Position_CM',\n 'Nationality_Slovakia',\n 'Nationality_Spain',\n 'LongPassing',\n 'LongShots',\n 'FKAccuracy',\n 'Finishing',\n 'Volleys',\n 'Nationality_Croatia',\n 'Position_LW',\n 'Nationality_Egypt',\n 'Nationality_Costa Rica',\n 'Reactions',\n 'Position_LAM',\n 'Nationality_Uruguay',\n 'Nationality_Gabon',\n 'Nationality_Slovenia',\n 'Nationality_Belgium',\n 'Position_RF',\n 'Position_LF',\n 'Body Type_Neymar',\n 'Body Type_Messi',\n 'Body Type_Courtois',\n 'Body Type_PLAYER_BODY_TYPE_25',\n 'Body Type_C. Ronaldo']"
     },
     "execution_count": 26,
     "metadata": {},
     "output_type": "execute_result"
    }
   ],
   "source": [
    "chi_feature"
   ]
  },
  {
   "cell_type": "markdown",
   "metadata": {},
   "source": [
    "## Wrapper Feature Selection - Recursive Feature Elimination"
   ]
  },
  {
   "cell_type": "code",
   "execution_count": 27,
   "metadata": {},
   "outputs": [],
   "source": [
    "from sklearn.feature_selection import RFE\n",
    "from sklearn.linear_model import LogisticRegression\n",
    "from sklearn.preprocessing import MinMaxScaler"
   ]
  },
  {
   "cell_type": "markdown",
   "metadata": {},
   "source": [
    "### RFE Selector function"
   ]
  },
  {
   "cell_type": "code",
   "execution_count": 28,
   "metadata": {},
   "outputs": [],
   "source": [
    "def rfe_selector(X, y, num_feats):\n",
    "    feature_names = X.columns.to_list()\n",
    "    lr = LogisticRegression()\n",
    "    rfe_lr = RFE(estimator=lr,\n",
    "                 n_features_to_select=num_feats,\n",
    "                 step=1,\n",
    "                 verbose=5)\n",
    "    X_norm = MinMaxScaler().fit_transform(X)\n",
    "    rfe_lr = rfe_lr.fit(X_norm, y)\n",
    "    coefficients = rfe_lr.ranking_\n",
    "    return get_support_feature(feature_names, coefficients, num_feats)"
   ]
  },
  {
   "cell_type": "code",
   "execution_count": 29,
   "metadata": {},
   "outputs": [
    {
     "name": "stdout",
     "output_type": "stream",
     "text": [
      "Fitting estimator with 223 features.\n",
      "Fitting estimator with 222 features.\n",
      "Fitting estimator with 221 features.\n",
      "Fitting estimator with 220 features.\n",
      "Fitting estimator with 219 features.\n",
      "Fitting estimator with 218 features.\n",
      "Fitting estimator with 217 features.\n",
      "Fitting estimator with 216 features.\n",
      "Fitting estimator with 215 features.\n",
      "Fitting estimator with 214 features.\n",
      "Fitting estimator with 213 features.\n",
      "Fitting estimator with 212 features.\n",
      "Fitting estimator with 211 features.\n",
      "Fitting estimator with 210 features.\n",
      "Fitting estimator with 209 features.\n",
      "Fitting estimator with 208 features.\n",
      "Fitting estimator with 207 features.\n",
      "Fitting estimator with 206 features.\n",
      "Fitting estimator with 205 features.\n",
      "Fitting estimator with 204 features.\n",
      "Fitting estimator with 203 features.\n",
      "Fitting estimator with 202 features.\n",
      "Fitting estimator with 201 features.\n",
      "Fitting estimator with 200 features.\n",
      "Fitting estimator with 199 features.\n",
      "Fitting estimator with 198 features.\n",
      "Fitting estimator with 197 features.\n",
      "Fitting estimator with 196 features.\n",
      "Fitting estimator with 195 features.\n",
      "Fitting estimator with 194 features.\n",
      "Fitting estimator with 193 features.\n",
      "Fitting estimator with 192 features.\n",
      "Fitting estimator with 191 features.\n",
      "Fitting estimator with 190 features.\n",
      "Fitting estimator with 189 features.\n",
      "Fitting estimator with 188 features.\n",
      "Fitting estimator with 187 features.\n",
      "Fitting estimator with 186 features.\n",
      "Fitting estimator with 185 features.\n",
      "Fitting estimator with 184 features.\n",
      "Fitting estimator with 183 features.\n",
      "Fitting estimator with 182 features.\n",
      "Fitting estimator with 181 features.\n",
      "Fitting estimator with 180 features.\n",
      "Fitting estimator with 179 features.\n",
      "Fitting estimator with 178 features.\n",
      "Fitting estimator with 177 features.\n",
      "Fitting estimator with 176 features.\n",
      "Fitting estimator with 175 features.\n",
      "Fitting estimator with 174 features.\n",
      "Fitting estimator with 173 features.\n",
      "Fitting estimator with 172 features.\n",
      "Fitting estimator with 171 features.\n",
      "Fitting estimator with 170 features.\n",
      "Fitting estimator with 169 features.\n",
      "Fitting estimator with 168 features.\n",
      "Fitting estimator with 167 features.\n",
      "Fitting estimator with 166 features.\n",
      "Fitting estimator with 165 features.\n",
      "Fitting estimator with 164 features.\n",
      "Fitting estimator with 163 features.\n",
      "Fitting estimator with 162 features.\n",
      "Fitting estimator with 161 features.\n",
      "Fitting estimator with 160 features.\n",
      "Fitting estimator with 159 features.\n",
      "Fitting estimator with 158 features.\n",
      "Fitting estimator with 157 features.\n",
      "Fitting estimator with 156 features.\n",
      "Fitting estimator with 155 features.\n",
      "Fitting estimator with 154 features.\n",
      "Fitting estimator with 153 features.\n",
      "Fitting estimator with 152 features.\n",
      "Fitting estimator with 151 features.\n",
      "Fitting estimator with 150 features.\n",
      "Fitting estimator with 149 features.\n",
      "Fitting estimator with 148 features.\n",
      "Fitting estimator with 147 features.\n",
      "Fitting estimator with 146 features.\n",
      "Fitting estimator with 145 features.\n",
      "Fitting estimator with 144 features.\n",
      "Fitting estimator with 143 features.\n",
      "Fitting estimator with 142 features.\n",
      "Fitting estimator with 141 features.\n",
      "Fitting estimator with 140 features.\n",
      "Fitting estimator with 139 features.\n",
      "Fitting estimator with 138 features.\n",
      "Fitting estimator with 137 features.\n",
      "Fitting estimator with 136 features.\n",
      "Fitting estimator with 135 features.\n",
      "Fitting estimator with 134 features.\n",
      "Fitting estimator with 133 features.\n",
      "Fitting estimator with 132 features.\n",
      "Fitting estimator with 131 features.\n",
      "Fitting estimator with 130 features.\n",
      "Fitting estimator with 129 features.\n",
      "Fitting estimator with 128 features.\n",
      "Fitting estimator with 127 features.\n",
      "Fitting estimator with 126 features.\n",
      "Fitting estimator with 125 features.\n",
      "Fitting estimator with 124 features.\n",
      "Fitting estimator with 123 features.\n",
      "Fitting estimator with 122 features.\n",
      "Fitting estimator with 121 features.\n",
      "Fitting estimator with 120 features.\n",
      "Fitting estimator with 119 features.\n",
      "Fitting estimator with 118 features.\n",
      "Fitting estimator with 117 features.\n",
      "Fitting estimator with 116 features.\n",
      "Fitting estimator with 115 features.\n",
      "Fitting estimator with 114 features.\n",
      "Fitting estimator with 113 features.\n",
      "Fitting estimator with 112 features.\n",
      "Fitting estimator with 111 features.\n",
      "Fitting estimator with 110 features.\n",
      "Fitting estimator with 109 features.\n",
      "Fitting estimator with 108 features.\n",
      "Fitting estimator with 107 features.\n",
      "Fitting estimator with 106 features.\n",
      "Fitting estimator with 105 features.\n",
      "Fitting estimator with 104 features.\n",
      "Fitting estimator with 103 features.\n",
      "Fitting estimator with 102 features.\n",
      "Fitting estimator with 101 features.\n",
      "Fitting estimator with 100 features.\n",
      "Fitting estimator with 99 features.\n",
      "Fitting estimator with 98 features.\n",
      "Fitting estimator with 97 features.\n",
      "Fitting estimator with 96 features.\n",
      "Fitting estimator with 95 features.\n",
      "Fitting estimator with 94 features.\n",
      "Fitting estimator with 93 features.\n",
      "Fitting estimator with 92 features.\n",
      "Fitting estimator with 91 features.\n",
      "Fitting estimator with 90 features.\n",
      "Fitting estimator with 89 features.\n",
      "Fitting estimator with 88 features.\n",
      "Fitting estimator with 87 features.\n",
      "Fitting estimator with 86 features.\n",
      "Fitting estimator with 85 features.\n",
      "Fitting estimator with 84 features.\n",
      "Fitting estimator with 83 features.\n",
      "Fitting estimator with 82 features.\n",
      "Fitting estimator with 81 features.\n",
      "Fitting estimator with 80 features.\n",
      "Fitting estimator with 79 features.\n",
      "Fitting estimator with 78 features.\n",
      "Fitting estimator with 77 features.\n",
      "Fitting estimator with 76 features.\n",
      "Fitting estimator with 75 features.\n",
      "Fitting estimator with 74 features.\n",
      "Fitting estimator with 73 features.\n",
      "Fitting estimator with 72 features.\n",
      "Fitting estimator with 71 features.\n",
      "Fitting estimator with 70 features.\n",
      "Fitting estimator with 69 features.\n",
      "Fitting estimator with 68 features.\n",
      "Fitting estimator with 67 features.\n",
      "Fitting estimator with 66 features.\n",
      "Fitting estimator with 65 features.\n",
      "Fitting estimator with 64 features.\n",
      "Fitting estimator with 63 features.\n",
      "Fitting estimator with 62 features.\n",
      "Fitting estimator with 61 features.\n",
      "Fitting estimator with 60 features.\n",
      "Fitting estimator with 59 features.\n",
      "Fitting estimator with 58 features.\n",
      "Fitting estimator with 57 features.\n",
      "Fitting estimator with 56 features.\n",
      "Fitting estimator with 55 features.\n",
      "Fitting estimator with 54 features.\n",
      "Fitting estimator with 53 features.\n",
      "Fitting estimator with 52 features.\n",
      "Fitting estimator with 51 features.\n",
      "Fitting estimator with 50 features.\n",
      "Fitting estimator with 49 features.\n",
      "Fitting estimator with 48 features.\n",
      "Fitting estimator with 47 features.\n",
      "Fitting estimator with 46 features.\n",
      "Fitting estimator with 45 features.\n",
      "Fitting estimator with 44 features.\n",
      "Fitting estimator with 43 features.\n",
      "Fitting estimator with 42 features.\n",
      "Fitting estimator with 41 features.\n",
      "Fitting estimator with 40 features.\n",
      "Fitting estimator with 39 features.\n",
      "Fitting estimator with 38 features.\n",
      "Fitting estimator with 37 features.\n",
      "Fitting estimator with 36 features.\n",
      "Fitting estimator with 35 features.\n",
      "Fitting estimator with 34 features.\n",
      "Fitting estimator with 33 features.\n",
      "Fitting estimator with 32 features.\n",
      "Fitting estimator with 31 features.\n",
      "30 selected features\n"
     ]
    }
   ],
   "source": [
    "rfe_support, rfe_feature = rfe_selector(X, y,num_feats)\n",
    "print(str(len(rfe_feature)), 'selected features')"
   ]
  },
  {
   "cell_type": "markdown",
   "metadata": {},
   "source": [
    "### List the selected features from RFE"
   ]
  },
  {
   "cell_type": "code",
   "execution_count": 30,
   "metadata": {},
   "outputs": [
    {
     "data": {
      "text/plain": "['Nationality_Uzbekistan',\n 'Nationality_Bermuda',\n 'Nationality_Liberia',\n 'Nationality_Guatemala',\n 'Nationality_Niger',\n 'Nationality_Rwanda',\n 'Nationality_Guyana',\n 'Nationality_Antigua & Barbuda',\n 'Nationality_Mauritius',\n 'Nationality_Lebanon',\n 'Body Type_Akinfenwa',\n 'Nationality_Palestine',\n 'Nationality_Mauritania',\n 'Nationality_Sudan',\n 'Nationality_Guam',\n 'Nationality_Afghanistan',\n 'Nationality_Hong Kong',\n 'Nationality_Nicaragua',\n 'Nationality_Jordan',\n 'Nationality_Ethiopia',\n 'Nationality_Andorra',\n 'Nationality_Puerto Rico',\n 'Nationality_Grenada',\n 'Nationality_Belize',\n 'Nationality_St Lucia',\n 'Nationality_South Sudan',\n 'Nationality_Qatar',\n 'Nationality_Botswana',\n 'Nationality_Malta',\n 'Nationality_Indonesia']"
     },
     "execution_count": 30,
     "metadata": {},
     "output_type": "execute_result"
    }
   ],
   "source": [
    "rfe_feature"
   ]
  },
  {
   "cell_type": "markdown",
   "metadata": {},
   "source": [
    "## Embedded Selection - Lasso: SelectFromModel"
   ]
  },
  {
   "cell_type": "code",
   "execution_count": 31,
   "metadata": {},
   "outputs": [],
   "source": [
    "from sklearn.feature_selection import SelectFromModel\n",
    "from sklearn.linear_model import LogisticRegression\n",
    "from sklearn.preprocessing import MinMaxScaler"
   ]
  },
  {
   "cell_type": "code",
   "execution_count": 32,
   "metadata": {},
   "outputs": [],
   "source": [
    "def embedded_log_reg_selector(X, y, num_feats):\n",
    "    feature_names = X.columns.to_list()\n",
    "    lr = LogisticRegression()\n",
    "    embedded_selector = SelectFromModel(lr,\n",
    "                                        max_features=num_feats)\n",
    "    X_norm = MinMaxScaler().fit_transform(X)\n",
    "    embedded_selector = embedded_selector.fit(X_norm, y)\n",
    "    coefficients = embedded_selector.estimator_.coef_[0]\n",
    "    return get_support_feature(feature_names, coefficients, num_feats)"
   ]
  },
  {
   "cell_type": "code",
   "execution_count": 33,
   "metadata": {},
   "outputs": [
    {
     "name": "stdout",
     "output_type": "stream",
     "text": [
      "30 selected features\n"
     ]
    }
   ],
   "source": [
    "embedded_lr_support, embedded_lr_feature = embedded_log_reg_selector(X, y, num_feats)\n",
    "print(str(len(embedded_lr_feature)), 'selected features')"
   ]
  },
  {
   "cell_type": "code",
   "execution_count": 34,
   "metadata": {},
   "outputs": [
    {
     "data": {
      "text/plain": "['Nationality_France',\n 'Weak Foot',\n 'Nationality_Netherlands',\n 'Nationality_Croatia',\n 'Position_RCB',\n 'Position_RM',\n 'Position_CAM',\n 'Body Type_Courtois',\n 'Nationality_Costa Rica',\n 'Nationality_Gabon',\n 'Body Type_Stocky',\n 'Position_RW',\n 'Body Type_Lean',\n 'Position_LCB',\n 'Position_LM',\n 'Position_RB',\n 'Agility',\n 'SprintSpeed',\n 'Nationality_Uruguay',\n 'Nationality_Belgium',\n 'Volleys',\n 'Finishing',\n 'BallControl',\n 'Nationality_Slovenia',\n 'Position_CM',\n 'Strength',\n 'ShortPassing',\n 'LongPassing',\n 'Position_GK',\n 'Reactions']"
     },
     "execution_count": 34,
     "metadata": {},
     "output_type": "execute_result"
    }
   ],
   "source": [
    "embedded_lr_feature"
   ]
  },
  {
   "cell_type": "markdown",
   "metadata": {},
   "source": [
    "## Tree based(Random Forest): SelectFromModel"
   ]
  },
  {
   "cell_type": "code",
   "execution_count": 35,
   "metadata": {},
   "outputs": [],
   "source": [
    "from sklearn.feature_selection import SelectFromModel\n",
    "from sklearn.ensemble import RandomForestClassifier"
   ]
  },
  {
   "cell_type": "code",
   "execution_count": 36,
   "metadata": {},
   "outputs": [],
   "source": [
    "def embedded_rf_selector(X, y, num_feats):\n",
    "    rf = RandomForestClassifier(n_estimators=100)\n",
    "    embedded_selector = SelectFromModel(rf,\n",
    "                                        max_features=num_feats)\n",
    "    X_norm = MinMaxScaler().fit_transform(X)\n",
    "    embedded_selector = embedded_selector.fit(X_norm, y)\n",
    "    support = embedded_selector.get_support()\n",
    "    features = X.loc[:, support].columns.tolist()\n",
    "    return support, features"
   ]
  },
  {
   "cell_type": "code",
   "execution_count": 37,
   "metadata": {},
   "outputs": [
    {
     "name": "stdout",
     "output_type": "stream",
     "text": [
      "24 selected features\n"
     ]
    }
   ],
   "source": [
    "embeded_rf_support, embeded_rf_feature = embedded_rf_selector(X, y, num_feats)\n",
    "print(str(len(embeded_rf_feature)), 'selected features')"
   ]
  },
  {
   "cell_type": "code",
   "execution_count": 38,
   "metadata": {},
   "outputs": [
    {
     "data": {
      "text/plain": "['Crossing',\n 'Finishing',\n 'ShortPassing',\n 'Dribbling',\n 'LongPassing',\n 'BallControl',\n 'Acceleration',\n 'SprintSpeed',\n 'Agility',\n 'Stamina',\n 'Volleys',\n 'FKAccuracy',\n 'Reactions',\n 'Balance',\n 'ShotPower',\n 'Strength',\n 'LongShots',\n 'Aggression',\n 'Interceptions',\n 'Weak Foot',\n 'Preferred Foot_Left',\n 'Body Type_Courtois',\n 'Body Type_Normal',\n 'Nationality_Germany']"
     },
     "execution_count": 38,
     "metadata": {},
     "output_type": "execute_result"
    }
   ],
   "source": [
    "embeded_rf_feature"
   ]
  },
  {
   "cell_type": "markdown",
   "metadata": {},
   "source": [
    "## Tree based(Light GBM): SelectFromModel"
   ]
  },
  {
   "cell_type": "code",
   "execution_count": 39,
   "metadata": {},
   "outputs": [],
   "source": [
    "from sklearn.feature_selection import SelectFromModel\n",
    "from lightgbm import LGBMClassifier"
   ]
  },
  {
   "cell_type": "code",
   "execution_count": 40,
   "metadata": {},
   "outputs": [],
   "source": [
    "def embedded_lgbm_selector(X, y, num_feats):\n",
    "    lgbmc = LGBMClassifier(n_estimators=500,\n",
    "                           learning_rate=0.05,\n",
    "                           num_leaves=32,\n",
    "                           colsample_bytree=0.2,\n",
    "                           reg_alpha=3,\n",
    "                           reg_lambda=1,\n",
    "                           min_split_gain=0.01,\n",
    "                           min_child_weight=40)\n",
    "    embedded_lgbm_selector = SelectFromModel(lgbmc,\n",
    "                                             max_features=num_feats)\n",
    "    X_norm = MinMaxScaler().fit_transform(X)\n",
    "    embedded_lgbm_selector = embedded_lgbm_selector.fit(X_norm, y)\n",
    "    embedded_lgbm_support = embedded_lgbm_selector.get_support()\n",
    "    embedded_lgbm_feature = X.loc[:, embedded_lgbm_support].columns.tolist()\n",
    "    return embedded_lgbm_support, embedded_lgbm_feature"
   ]
  },
  {
   "cell_type": "code",
   "execution_count": 41,
   "metadata": {},
   "outputs": [
    {
     "name": "stdout",
     "output_type": "stream",
     "text": [
      "30 selected features\n"
     ]
    }
   ],
   "source": [
    "embedded_lgbm_support, embeded_lgbm_feature = embedded_lgbm_selector(X, y, num_feats)\n",
    "print(str(len(embeded_lgbm_feature)), 'selected features')"
   ]
  },
  {
   "cell_type": "code",
   "execution_count": 42,
   "metadata": {},
   "outputs": [
    {
     "data": {
      "text/plain": "['Crossing',\n 'Finishing',\n 'ShortPassing',\n 'Dribbling',\n 'LongPassing',\n 'BallControl',\n 'Acceleration',\n 'SprintSpeed',\n 'Agility',\n 'Stamina',\n 'Volleys',\n 'FKAccuracy',\n 'Reactions',\n 'Balance',\n 'ShotPower',\n 'Strength',\n 'LongShots',\n 'Aggression',\n 'Interceptions',\n 'Weak Foot',\n 'Preferred Foot_Left',\n 'Preferred Foot_Right',\n 'Position_CAM',\n 'Position_CB',\n 'Position_CDM',\n 'Position_CF',\n 'Position_CM',\n 'Position_GK',\n 'Position_LAM',\n 'Position_LB']"
     },
     "execution_count": 42,
     "metadata": {},
     "output_type": "execute_result"
    }
   ],
   "source": [
    "embeded_lgbm_feature"
   ]
  },
  {
   "cell_type": "markdown",
   "metadata": {},
   "source": [
    "## Putting all of it together: AutoFeatureSelector Tool"
   ]
  },
  {
   "cell_type": "code",
   "execution_count": 43,
   "metadata": {},
   "outputs": [
    {
     "name": "stderr",
     "output_type": "stream",
     "text": [
      "/Users/daniyarkurmanbayev/Documents/GBC/mlenv/lib/python3.8/site-packages/numpy/core/fromnumeric.py:84: FutureWarning: Dropping of nuisance columns in DataFrame reductions (with 'numeric_only=None') is deprecated; in a future version this will raise TypeError.  Select only valid columns before calling the reduction.\n",
      "  return reduction(axis=axis, out=out, **passkwargs)\n"
     ]
    },
    {
     "data": {
      "text/plain": "                   Feature  Pearson  Chi-2    RFE  Logistics  Random Forest  \\\n1                  Volleys     True   True  False       True           True   \n2             ShortPassing     True   True  False       True           True   \n3                Reactions     True   True  False       True           True   \n4              LongPassing     True   True  False       True           True   \n5                Finishing     True   True  False       True           True   \n6              BallControl     True   True  False       True           True   \n7                Weak Foot     True  False  False       True           True   \n8                 Strength     True  False  False       True           True   \n9              SprintSpeed     True  False  False       True           True   \n10               LongShots     True   True  False      False           True   \n11              FKAccuracy     True   True  False      False           True   \n12      Body Type_Courtois     True   True  False       True           True   \n13                 Agility     True  False  False       True           True   \n14                 Stamina     True  False  False      False           True   \n15               ShotPower     True  False  False      False           True   \n16            Position_LAM     True   True  False      False          False   \n17             Position_CM    False   True  False       True          False   \n18     Nationality_Uruguay     True   True  False       True          False   \n19    Nationality_Slovenia     True   True  False       True          False   \n20       Nationality_Gabon     True   True  False       True          False   \n21  Nationality_Costa Rica     True   True  False       True          False   \n22     Nationality_Belgium     True   True  False       True          False   \n23               Dribbling     True  False  False      False           True   \n24                Crossing     True  False  False      False           True   \n25            Acceleration     True  False  False      False           True   \n26     Preferred Foot_Left    False  False  False      False           True   \n27             Position_RF     True   True  False      False          False   \n28             Position_RB    False   True  False       True          False   \n29             Position_LF     True   True  False      False          False   \n30             Position_GK    False  False  False       True          False   \n\n    LightGBM  Total  \n1       True      5  \n2       True      5  \n3       True      5  \n4       True      5  \n5       True      5  \n6       True      5  \n7       True      4  \n8       True      4  \n9       True      4  \n10      True      4  \n11      True      4  \n12     False      4  \n13      True      4  \n14      True      3  \n15      True      3  \n16      True      3  \n17      True      3  \n18     False      3  \n19     False      3  \n20     False      3  \n21     False      3  \n22     False      3  \n23      True      3  \n24      True      3  \n25      True      3  \n26      True      2  \n27     False      2  \n28     False      2  \n29     False      2  \n30      True      2  ",
      "text/html": "<div>\n<style scoped>\n    .dataframe tbody tr th:only-of-type {\n        vertical-align: middle;\n    }\n\n    .dataframe tbody tr th {\n        vertical-align: top;\n    }\n\n    .dataframe thead th {\n        text-align: right;\n    }\n</style>\n<table border=\"1\" class=\"dataframe\">\n  <thead>\n    <tr style=\"text-align: right;\">\n      <th></th>\n      <th>Feature</th>\n      <th>Pearson</th>\n      <th>Chi-2</th>\n      <th>RFE</th>\n      <th>Logistics</th>\n      <th>Random Forest</th>\n      <th>LightGBM</th>\n      <th>Total</th>\n    </tr>\n  </thead>\n  <tbody>\n    <tr>\n      <th>1</th>\n      <td>Volleys</td>\n      <td>True</td>\n      <td>True</td>\n      <td>False</td>\n      <td>True</td>\n      <td>True</td>\n      <td>True</td>\n      <td>5</td>\n    </tr>\n    <tr>\n      <th>2</th>\n      <td>ShortPassing</td>\n      <td>True</td>\n      <td>True</td>\n      <td>False</td>\n      <td>True</td>\n      <td>True</td>\n      <td>True</td>\n      <td>5</td>\n    </tr>\n    <tr>\n      <th>3</th>\n      <td>Reactions</td>\n      <td>True</td>\n      <td>True</td>\n      <td>False</td>\n      <td>True</td>\n      <td>True</td>\n      <td>True</td>\n      <td>5</td>\n    </tr>\n    <tr>\n      <th>4</th>\n      <td>LongPassing</td>\n      <td>True</td>\n      <td>True</td>\n      <td>False</td>\n      <td>True</td>\n      <td>True</td>\n      <td>True</td>\n      <td>5</td>\n    </tr>\n    <tr>\n      <th>5</th>\n      <td>Finishing</td>\n      <td>True</td>\n      <td>True</td>\n      <td>False</td>\n      <td>True</td>\n      <td>True</td>\n      <td>True</td>\n      <td>5</td>\n    </tr>\n    <tr>\n      <th>6</th>\n      <td>BallControl</td>\n      <td>True</td>\n      <td>True</td>\n      <td>False</td>\n      <td>True</td>\n      <td>True</td>\n      <td>True</td>\n      <td>5</td>\n    </tr>\n    <tr>\n      <th>7</th>\n      <td>Weak Foot</td>\n      <td>True</td>\n      <td>False</td>\n      <td>False</td>\n      <td>True</td>\n      <td>True</td>\n      <td>True</td>\n      <td>4</td>\n    </tr>\n    <tr>\n      <th>8</th>\n      <td>Strength</td>\n      <td>True</td>\n      <td>False</td>\n      <td>False</td>\n      <td>True</td>\n      <td>True</td>\n      <td>True</td>\n      <td>4</td>\n    </tr>\n    <tr>\n      <th>9</th>\n      <td>SprintSpeed</td>\n      <td>True</td>\n      <td>False</td>\n      <td>False</td>\n      <td>True</td>\n      <td>True</td>\n      <td>True</td>\n      <td>4</td>\n    </tr>\n    <tr>\n      <th>10</th>\n      <td>LongShots</td>\n      <td>True</td>\n      <td>True</td>\n      <td>False</td>\n      <td>False</td>\n      <td>True</td>\n      <td>True</td>\n      <td>4</td>\n    </tr>\n    <tr>\n      <th>11</th>\n      <td>FKAccuracy</td>\n      <td>True</td>\n      <td>True</td>\n      <td>False</td>\n      <td>False</td>\n      <td>True</td>\n      <td>True</td>\n      <td>4</td>\n    </tr>\n    <tr>\n      <th>12</th>\n      <td>Body Type_Courtois</td>\n      <td>True</td>\n      <td>True</td>\n      <td>False</td>\n      <td>True</td>\n      <td>True</td>\n      <td>False</td>\n      <td>4</td>\n    </tr>\n    <tr>\n      <th>13</th>\n      <td>Agility</td>\n      <td>True</td>\n      <td>False</td>\n      <td>False</td>\n      <td>True</td>\n      <td>True</td>\n      <td>True</td>\n      <td>4</td>\n    </tr>\n    <tr>\n      <th>14</th>\n      <td>Stamina</td>\n      <td>True</td>\n      <td>False</td>\n      <td>False</td>\n      <td>False</td>\n      <td>True</td>\n      <td>True</td>\n      <td>3</td>\n    </tr>\n    <tr>\n      <th>15</th>\n      <td>ShotPower</td>\n      <td>True</td>\n      <td>False</td>\n      <td>False</td>\n      <td>False</td>\n      <td>True</td>\n      <td>True</td>\n      <td>3</td>\n    </tr>\n    <tr>\n      <th>16</th>\n      <td>Position_LAM</td>\n      <td>True</td>\n      <td>True</td>\n      <td>False</td>\n      <td>False</td>\n      <td>False</td>\n      <td>True</td>\n      <td>3</td>\n    </tr>\n    <tr>\n      <th>17</th>\n      <td>Position_CM</td>\n      <td>False</td>\n      <td>True</td>\n      <td>False</td>\n      <td>True</td>\n      <td>False</td>\n      <td>True</td>\n      <td>3</td>\n    </tr>\n    <tr>\n      <th>18</th>\n      <td>Nationality_Uruguay</td>\n      <td>True</td>\n      <td>True</td>\n      <td>False</td>\n      <td>True</td>\n      <td>False</td>\n      <td>False</td>\n      <td>3</td>\n    </tr>\n    <tr>\n      <th>19</th>\n      <td>Nationality_Slovenia</td>\n      <td>True</td>\n      <td>True</td>\n      <td>False</td>\n      <td>True</td>\n      <td>False</td>\n      <td>False</td>\n      <td>3</td>\n    </tr>\n    <tr>\n      <th>20</th>\n      <td>Nationality_Gabon</td>\n      <td>True</td>\n      <td>True</td>\n      <td>False</td>\n      <td>True</td>\n      <td>False</td>\n      <td>False</td>\n      <td>3</td>\n    </tr>\n    <tr>\n      <th>21</th>\n      <td>Nationality_Costa Rica</td>\n      <td>True</td>\n      <td>True</td>\n      <td>False</td>\n      <td>True</td>\n      <td>False</td>\n      <td>False</td>\n      <td>3</td>\n    </tr>\n    <tr>\n      <th>22</th>\n      <td>Nationality_Belgium</td>\n      <td>True</td>\n      <td>True</td>\n      <td>False</td>\n      <td>True</td>\n      <td>False</td>\n      <td>False</td>\n      <td>3</td>\n    </tr>\n    <tr>\n      <th>23</th>\n      <td>Dribbling</td>\n      <td>True</td>\n      <td>False</td>\n      <td>False</td>\n      <td>False</td>\n      <td>True</td>\n      <td>True</td>\n      <td>3</td>\n    </tr>\n    <tr>\n      <th>24</th>\n      <td>Crossing</td>\n      <td>True</td>\n      <td>False</td>\n      <td>False</td>\n      <td>False</td>\n      <td>True</td>\n      <td>True</td>\n      <td>3</td>\n    </tr>\n    <tr>\n      <th>25</th>\n      <td>Acceleration</td>\n      <td>True</td>\n      <td>False</td>\n      <td>False</td>\n      <td>False</td>\n      <td>True</td>\n      <td>True</td>\n      <td>3</td>\n    </tr>\n    <tr>\n      <th>26</th>\n      <td>Preferred Foot_Left</td>\n      <td>False</td>\n      <td>False</td>\n      <td>False</td>\n      <td>False</td>\n      <td>True</td>\n      <td>True</td>\n      <td>2</td>\n    </tr>\n    <tr>\n      <th>27</th>\n      <td>Position_RF</td>\n      <td>True</td>\n      <td>True</td>\n      <td>False</td>\n      <td>False</td>\n      <td>False</td>\n      <td>False</td>\n      <td>2</td>\n    </tr>\n    <tr>\n      <th>28</th>\n      <td>Position_RB</td>\n      <td>False</td>\n      <td>True</td>\n      <td>False</td>\n      <td>True</td>\n      <td>False</td>\n      <td>False</td>\n      <td>2</td>\n    </tr>\n    <tr>\n      <th>29</th>\n      <td>Position_LF</td>\n      <td>True</td>\n      <td>True</td>\n      <td>False</td>\n      <td>False</td>\n      <td>False</td>\n      <td>False</td>\n      <td>2</td>\n    </tr>\n    <tr>\n      <th>30</th>\n      <td>Position_GK</td>\n      <td>False</td>\n      <td>False</td>\n      <td>False</td>\n      <td>True</td>\n      <td>False</td>\n      <td>True</td>\n      <td>2</td>\n    </tr>\n  </tbody>\n</table>\n</div>"
     },
     "execution_count": 43,
     "metadata": {},
     "output_type": "execute_result"
    }
   ],
   "source": [
    "pd.set_option('display.max_rows', None)\n",
    "# put all selection together\n",
    "feature_selection_df = pd.DataFrame({'Feature': feature_name,\n",
    "                                     'Pearson': cor_support,\n",
    "                                     'Chi-2': chi_support,\n",
    "                                     'RFE': rfe_support,\n",
    "                                     'Logistics': embedded_lr_support,\n",
    "                                     'Random Forest':embeded_rf_support,\n",
    "                                     'LightGBM': embedded_lgbm_support})\n",
    "# count the selected times for each feature\n",
    "feature_selection_df['Total'] = np.sum(feature_selection_df, axis=1)\n",
    "# display the top 30\n",
    "feature_selection_df = feature_selection_df.sort_values(['Total','Feature'],\n",
    "                                                        ascending=False)\n",
    "feature_selection_df.index = range(1, len(feature_selection_df)+1)\n",
    "feature_selection_df.head(num_feats)"
   ]
  },
  {
   "cell_type": "markdown",
   "metadata": {},
   "source": [
    "## Can you build a Python script that takes dataset and a list of different feature selection methods that you want to try and output the best (maximum votes) features from all methods?"
   ]
  },
  {
   "cell_type": "code",
   "execution_count": 43,
   "metadata": {},
   "outputs": [],
   "source": []
  },
  {
   "cell_type": "code",
   "execution_count": 44,
   "metadata": {},
   "outputs": [],
   "source": [
    "def autoFeatureSelector(dataset_path, num_feats, methods=[]):\n",
    "    def preprocess_dataset(dataset_path):\n",
    "        player_df = pd.read_csv(dataset_path)\n",
    "        numcols = ['Overall', 'Crossing','Finishing',  'ShortPassing',  'Dribbling','LongPassing', 'BallControl', 'Acceleration','SprintSpeed', 'Agility',  'Stamina','Volleys','FKAccuracy','Reactions','Balance','ShotPower','Strength','LongShots','Aggression','Interceptions']\n",
    "        catcols = ['Preferred Foot','Position','Body Type','Nationality','Weak Foot']\n",
    "        player_df = player_df[numcols+catcols]\n",
    "        traindf = pd.concat([player_df[numcols], pd.get_dummies(player_df[catcols])],axis=1)\n",
    "        features = traindf.columns\n",
    "        traindf = traindf.dropna()\n",
    "\n",
    "        traindf = pd.DataFrame(traindf,columns=features)\n",
    "        y = traindf['Overall']>=87\n",
    "        X = traindf.copy()\n",
    "        del X['Overall']\n",
    "        return X, y\n",
    "\n",
    "    def get_support_feature(feature_names, coefficients, num_feats):\n",
    "        feature_indexes = np.argsort(np.abs(coefficients))[-num_feats:]\n",
    "        cor_support = [index in feature_indexes for index, name in enumerate(feature_names)]\n",
    "        cor_feature = X.iloc[:,feature_indexes].columns.to_list()\n",
    "        return cor_support, cor_feature\n",
    "\n",
    "    def cor_selector(X, y, num_feats):\n",
    "        feature_names = X.columns.to_list()\n",
    "        coefficients = [np.corrcoef(X[name], y)[0, 1] for name in feature_names]\n",
    "        coefficients = [0 if np.isnan(coef) else coef for coef in coefficients]\n",
    "        return get_support_feature(feature_names, coefficients, num_feats)\n",
    "\n",
    "    def chi_squared_selector(X, y, num_feats):\n",
    "        feature_names = X.columns.to_list()\n",
    "        selector = SelectKBest(score_func=chi2,\n",
    "                               k=num_feats)\n",
    "        X_norm = MinMaxScaler().fit_transform(X)\n",
    "        top_features = selector.fit(X_norm,y)\n",
    "        coefficients = top_features.scores_\n",
    "        return get_support_feature(feature_names, coefficients, num_feats)\n",
    "\n",
    "    def rfe_selector(X, y, num_feats):\n",
    "        feature_names = X.columns.to_list()\n",
    "        lr = LogisticRegression()\n",
    "        rfe_lr = RFE(estimator=lr,\n",
    "                     n_features_to_select=num_feats,\n",
    "                     step=1,\n",
    "                     verbose=5)\n",
    "        X_norm = MinMaxScaler().fit_transform(X)\n",
    "        rfe_lr = rfe_lr.fit(X_norm, y)\n",
    "        coefficients = rfe_lr.ranking_\n",
    "        return get_support_feature(feature_names, coefficients, num_feats)\n",
    "\n",
    "    def embedded_log_reg_selector(X, y, num_feats):\n",
    "        feature_names = X.columns.to_list()\n",
    "        lr = LogisticRegression()\n",
    "        embedded_selector = SelectFromModel(lr,\n",
    "                                            max_features=num_feats)\n",
    "        X_norm = MinMaxScaler().fit_transform(X)\n",
    "        embedded_selector = embedded_selector.fit(X_norm, y)\n",
    "        coefficients = embedded_selector.estimator_.coef_[0]\n",
    "        return get_support_feature(feature_names, coefficients, num_feats)\n",
    "\n",
    "    def embedded_rf_selector(X, y, num_feats):\n",
    "        rf = RandomForestClassifier(n_estimators=100)\n",
    "        embedded_selector = SelectFromModel(rf,\n",
    "                                            max_features=num_feats)\n",
    "        X_norm = MinMaxScaler().fit_transform(X)\n",
    "        embedded_selector = embedded_selector.fit(X_norm, y)\n",
    "        support = embedded_selector.get_support()\n",
    "        features = X.loc[:, support].columns.tolist()\n",
    "        return support, features\n",
    "\n",
    "    def embedded_lgbm_selector(X, y, num_feats):\n",
    "        lgbmc = LGBMClassifier(n_estimators=500,\n",
    "                               learning_rate=0.05,\n",
    "                               num_leaves=32,\n",
    "                               colsample_bytree=0.2,\n",
    "                               reg_alpha=3,\n",
    "                               reg_lambda=1,\n",
    "                               min_split_gain=0.01,\n",
    "                               min_child_weight=40)\n",
    "        embedded_lgbm_selector = SelectFromModel(lgbmc,\n",
    "                                                 max_features=num_feats)\n",
    "        X_norm = MinMaxScaler().fit_transform(X)\n",
    "        embedded_lgbm_selector = embedded_lgbm_selector.fit(X_norm, y)\n",
    "        embedded_lgbm_support = embedded_lgbm_selector.get_support()\n",
    "        embedded_lgbm_feature = X.loc[:, embedded_lgbm_support].columns.tolist()\n",
    "        return embedded_lgbm_support, embedded_lgbm_feature\n",
    "\n",
    "    X, y = preprocess_dataset(dataset_path)\n",
    "    methods_support = {'Feature': feature_name}\n",
    "\n",
    "    if 'pearson' in methods:\n",
    "        cor_support, _ = cor_selector(X, y, num_feats)\n",
    "        methods_support['Pearson'] = cor_support\n",
    "    if 'chi-square' in methods:\n",
    "        chi_support, _ = chi_squared_selector(X, y, num_feats)\n",
    "        methods_support['Chi-2'] = chi_support\n",
    "    if 'rfe' in methods:\n",
    "        rfe_support, _ = rfe_selector(X, y, num_feats)\n",
    "        methods_support['RFE'] = rfe_support\n",
    "    if 'log-reg' in methods:\n",
    "        embedded_lr_support, _ = embedded_log_reg_selector(X, y, num_feats)\n",
    "        methods_support['Logistics'] = embedded_lr_support\n",
    "    if 'rf' in methods:\n",
    "        embedded_rf_support, _ = embedded_rf_selector(X, y, num_feats)\n",
    "        methods_support['Random Forest'] = embedded_rf_support\n",
    "    if 'lgbm' in methods:\n",
    "        embedded_lgbm_support, _ = embedded_lgbm_selector(X, y, num_feats)\n",
    "        methods_support['LightGBM'] = embedded_lgbm_support\n",
    "\n",
    "    pd.set_option('display.max_rows', None)\n",
    "\n",
    "    feature_selection_df = pd.DataFrame(methods_support)\n",
    "    feature_selection_df['Total'] = np.sum(feature_selection_df, axis=1)\n",
    "    feature_selection_df = feature_selection_df.sort_values(['Total','Feature'],\n",
    "                                                            ascending=False)\n",
    "    feature_selection_df.index = range(1, len(feature_selection_df)+1)\n",
    "    return feature_selection_df.head(num_feats)['Feature']"
   ]
  },
  {
   "cell_type": "code",
   "execution_count": 45,
   "metadata": {},
   "outputs": [
    {
     "name": "stdout",
     "output_type": "stream",
     "text": [
      "Fitting estimator with 223 features.\n",
      "Fitting estimator with 222 features.\n",
      "Fitting estimator with 221 features.\n",
      "Fitting estimator with 220 features.\n",
      "Fitting estimator with 219 features.\n",
      "Fitting estimator with 218 features.\n",
      "Fitting estimator with 217 features.\n",
      "Fitting estimator with 216 features.\n",
      "Fitting estimator with 215 features.\n",
      "Fitting estimator with 214 features.\n",
      "Fitting estimator with 213 features.\n",
      "Fitting estimator with 212 features.\n",
      "Fitting estimator with 211 features.\n",
      "Fitting estimator with 210 features.\n",
      "Fitting estimator with 209 features.\n",
      "Fitting estimator with 208 features.\n",
      "Fitting estimator with 207 features.\n",
      "Fitting estimator with 206 features.\n",
      "Fitting estimator with 205 features.\n",
      "Fitting estimator with 204 features.\n",
      "Fitting estimator with 203 features.\n",
      "Fitting estimator with 202 features.\n",
      "Fitting estimator with 201 features.\n",
      "Fitting estimator with 200 features.\n",
      "Fitting estimator with 199 features.\n",
      "Fitting estimator with 198 features.\n",
      "Fitting estimator with 197 features.\n",
      "Fitting estimator with 196 features.\n",
      "Fitting estimator with 195 features.\n",
      "Fitting estimator with 194 features.\n",
      "Fitting estimator with 193 features.\n",
      "Fitting estimator with 192 features.\n",
      "Fitting estimator with 191 features.\n",
      "Fitting estimator with 190 features.\n",
      "Fitting estimator with 189 features.\n",
      "Fitting estimator with 188 features.\n",
      "Fitting estimator with 187 features.\n",
      "Fitting estimator with 186 features.\n",
      "Fitting estimator with 185 features.\n",
      "Fitting estimator with 184 features.\n",
      "Fitting estimator with 183 features.\n",
      "Fitting estimator with 182 features.\n",
      "Fitting estimator with 181 features.\n",
      "Fitting estimator with 180 features.\n",
      "Fitting estimator with 179 features.\n",
      "Fitting estimator with 178 features.\n",
      "Fitting estimator with 177 features.\n",
      "Fitting estimator with 176 features.\n",
      "Fitting estimator with 175 features.\n",
      "Fitting estimator with 174 features.\n",
      "Fitting estimator with 173 features.\n",
      "Fitting estimator with 172 features.\n",
      "Fitting estimator with 171 features.\n",
      "Fitting estimator with 170 features.\n",
      "Fitting estimator with 169 features.\n",
      "Fitting estimator with 168 features.\n",
      "Fitting estimator with 167 features.\n",
      "Fitting estimator with 166 features.\n",
      "Fitting estimator with 165 features.\n",
      "Fitting estimator with 164 features.\n",
      "Fitting estimator with 163 features.\n",
      "Fitting estimator with 162 features.\n",
      "Fitting estimator with 161 features.\n",
      "Fitting estimator with 160 features.\n",
      "Fitting estimator with 159 features.\n",
      "Fitting estimator with 158 features.\n",
      "Fitting estimator with 157 features.\n",
      "Fitting estimator with 156 features.\n",
      "Fitting estimator with 155 features.\n",
      "Fitting estimator with 154 features.\n",
      "Fitting estimator with 153 features.\n",
      "Fitting estimator with 152 features.\n",
      "Fitting estimator with 151 features.\n",
      "Fitting estimator with 150 features.\n",
      "Fitting estimator with 149 features.\n",
      "Fitting estimator with 148 features.\n",
      "Fitting estimator with 147 features.\n",
      "Fitting estimator with 146 features.\n",
      "Fitting estimator with 145 features.\n",
      "Fitting estimator with 144 features.\n",
      "Fitting estimator with 143 features.\n",
      "Fitting estimator with 142 features.\n",
      "Fitting estimator with 141 features.\n",
      "Fitting estimator with 140 features.\n",
      "Fitting estimator with 139 features.\n",
      "Fitting estimator with 138 features.\n",
      "Fitting estimator with 137 features.\n",
      "Fitting estimator with 136 features.\n",
      "Fitting estimator with 135 features.\n",
      "Fitting estimator with 134 features.\n",
      "Fitting estimator with 133 features.\n",
      "Fitting estimator with 132 features.\n",
      "Fitting estimator with 131 features.\n",
      "Fitting estimator with 130 features.\n",
      "Fitting estimator with 129 features.\n",
      "Fitting estimator with 128 features.\n",
      "Fitting estimator with 127 features.\n",
      "Fitting estimator with 126 features.\n",
      "Fitting estimator with 125 features.\n",
      "Fitting estimator with 124 features.\n",
      "Fitting estimator with 123 features.\n",
      "Fitting estimator with 122 features.\n",
      "Fitting estimator with 121 features.\n",
      "Fitting estimator with 120 features.\n",
      "Fitting estimator with 119 features.\n",
      "Fitting estimator with 118 features.\n",
      "Fitting estimator with 117 features.\n",
      "Fitting estimator with 116 features.\n",
      "Fitting estimator with 115 features.\n",
      "Fitting estimator with 114 features.\n",
      "Fitting estimator with 113 features.\n",
      "Fitting estimator with 112 features.\n",
      "Fitting estimator with 111 features.\n",
      "Fitting estimator with 110 features.\n",
      "Fitting estimator with 109 features.\n",
      "Fitting estimator with 108 features.\n",
      "Fitting estimator with 107 features.\n",
      "Fitting estimator with 106 features.\n",
      "Fitting estimator with 105 features.\n",
      "Fitting estimator with 104 features.\n",
      "Fitting estimator with 103 features.\n",
      "Fitting estimator with 102 features.\n",
      "Fitting estimator with 101 features.\n",
      "Fitting estimator with 100 features.\n",
      "Fitting estimator with 99 features.\n",
      "Fitting estimator with 98 features.\n",
      "Fitting estimator with 97 features.\n",
      "Fitting estimator with 96 features.\n",
      "Fitting estimator with 95 features.\n",
      "Fitting estimator with 94 features.\n",
      "Fitting estimator with 93 features.\n",
      "Fitting estimator with 92 features.\n",
      "Fitting estimator with 91 features.\n",
      "Fitting estimator with 90 features.\n",
      "Fitting estimator with 89 features.\n",
      "Fitting estimator with 88 features.\n",
      "Fitting estimator with 87 features.\n",
      "Fitting estimator with 86 features.\n",
      "Fitting estimator with 85 features.\n",
      "Fitting estimator with 84 features.\n",
      "Fitting estimator with 83 features.\n",
      "Fitting estimator with 82 features.\n",
      "Fitting estimator with 81 features.\n",
      "Fitting estimator with 80 features.\n",
      "Fitting estimator with 79 features.\n",
      "Fitting estimator with 78 features.\n",
      "Fitting estimator with 77 features.\n",
      "Fitting estimator with 76 features.\n",
      "Fitting estimator with 75 features.\n",
      "Fitting estimator with 74 features.\n",
      "Fitting estimator with 73 features.\n",
      "Fitting estimator with 72 features.\n",
      "Fitting estimator with 71 features.\n",
      "Fitting estimator with 70 features.\n",
      "Fitting estimator with 69 features.\n",
      "Fitting estimator with 68 features.\n",
      "Fitting estimator with 67 features.\n",
      "Fitting estimator with 66 features.\n",
      "Fitting estimator with 65 features.\n",
      "Fitting estimator with 64 features.\n",
      "Fitting estimator with 63 features.\n",
      "Fitting estimator with 62 features.\n",
      "Fitting estimator with 61 features.\n",
      "Fitting estimator with 60 features.\n",
      "Fitting estimator with 59 features.\n",
      "Fitting estimator with 58 features.\n",
      "Fitting estimator with 57 features.\n",
      "Fitting estimator with 56 features.\n",
      "Fitting estimator with 55 features.\n",
      "Fitting estimator with 54 features.\n",
      "Fitting estimator with 53 features.\n",
      "Fitting estimator with 52 features.\n",
      "Fitting estimator with 51 features.\n",
      "Fitting estimator with 50 features.\n",
      "Fitting estimator with 49 features.\n",
      "Fitting estimator with 48 features.\n",
      "Fitting estimator with 47 features.\n",
      "Fitting estimator with 46 features.\n",
      "Fitting estimator with 45 features.\n",
      "Fitting estimator with 44 features.\n",
      "Fitting estimator with 43 features.\n",
      "Fitting estimator with 42 features.\n",
      "Fitting estimator with 41 features.\n",
      "Fitting estimator with 40 features.\n",
      "Fitting estimator with 39 features.\n",
      "Fitting estimator with 38 features.\n",
      "Fitting estimator with 37 features.\n",
      "Fitting estimator with 36 features.\n",
      "Fitting estimator with 35 features.\n",
      "Fitting estimator with 34 features.\n",
      "Fitting estimator with 33 features.\n",
      "Fitting estimator with 32 features.\n",
      "Fitting estimator with 31 features.\n"
     ]
    },
    {
     "name": "stderr",
     "output_type": "stream",
     "text": [
      "/Users/daniyarkurmanbayev/Documents/GBC/mlenv/lib/python3.8/site-packages/numpy/core/fromnumeric.py:84: FutureWarning: Dropping of nuisance columns in DataFrame reductions (with 'numeric_only=None') is deprecated; in a future version this will raise TypeError.  Select only valid columns before calling the reduction.\n",
      "  return reduction(axis=axis, out=out, **passkwargs)\n"
     ]
    },
    {
     "data": {
      "text/plain": "1                    Volleys\n2               ShortPassing\n3                  Reactions\n4                LongPassing\n5                  Finishing\n6                BallControl\n7                  Weak Foot\n8                   Strength\n9                SprintSpeed\n10      Nationality_Slovenia\n11                 LongShots\n12                FKAccuracy\n13        Body Type_Courtois\n14                   Agility\n15                   Stamina\n16                 ShotPower\n17              Position_LAM\n18               Position_CM\n19       Nationality_Uruguay\n20         Nationality_Gabon\n21    Nationality_Costa Rica\n22       Nationality_Belgium\n23                 Dribbling\n24                  Crossing\n25              Acceleration\n26               Position_RF\n27               Position_RB\n28               Position_LF\n29               Position_GK\n30              Position_CAM\nName: Feature, dtype: object"
     },
     "execution_count": 45,
     "metadata": {},
     "output_type": "execute_result"
    }
   ],
   "source": [
    "best_features = autoFeatureSelector(dataset_path=\"fifa19.csv\", num_feats=30, methods=['pearson', 'chi-square', 'rfe', 'log-reg', 'rf', 'lgbm'])\n",
    "best_features"
   ]
  },
  {
   "cell_type": "markdown",
   "metadata": {},
   "source": [
    "### Last, Can you turn this notebook into a python script, run it and submit the python (.py) file that takes dataset and list of methods as inputs and outputs the best features"
   ]
  },
  {
   "cell_type": "code",
   "execution_count": 45,
   "metadata": {},
   "outputs": [],
   "source": []
  }
 ],
 "metadata": {
  "kernelspec": {
   "name": "python3",
   "language": "python",
   "display_name": "Python 3 (ipykernel)"
  },
  "language_info": {
   "codemirror_mode": {
    "name": "ipython",
    "version": 3
   },
   "file_extension": ".py",
   "mimetype": "text/x-python",
   "name": "python",
   "nbconvert_exporter": "python",
   "pygments_lexer": "ipython3",
   "version": "3.8.5"
  }
 },
 "nbformat": 4,
 "nbformat_minor": 4
}