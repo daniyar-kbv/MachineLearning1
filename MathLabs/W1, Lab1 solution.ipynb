{
 "cells": [
  {
   "cell_type": "markdown",
   "source": [
    "<p style=\"font-family: Arial; font-size:3em;color:black;\"> Lab W1 </p>"
   ],
   "metadata": {}
  },
  {
   "cell_type": "markdown",
   "source": [
    "Students name in this Group:\n",
    "Daniyar\n",
    "Purvi\n",
    "Rishabh\n",
    "Vrinda\n"
   ],
   "metadata": {}
  },
  {
   "cell_type": "code",
   "execution_count": 19,
   "source": [
    "# importing numpy\n",
    "import numpy as np"
   ],
   "outputs": [],
   "metadata": {}
  },
  {
   "cell_type": "code",
   "execution_count": 20,
   "source": [
    "# Create a numpy array with the elements \"1, 2, 3, 5, 0\", print the array and test if all of its elements are non-zero.\n",
    "arr = np.array([1,2,3,5,0])\n",
    "print(arr)\n",
    "zero_element = False\n",
    "for x in arr:\n",
    "    if x==0:\n",
    "        zero_element = True\n",
    "\n",
    "if zero_element:\n",
    "    print(\"Array has an element which is Zero\")\n",
    "else:\n",
    "    print(\"Array has all non zero elements\")\n"
   ],
   "outputs": [
    {
     "output_type": "stream",
     "name": "stdout",
     "text": [
      "[1 2 3 5 0]\n",
      "Array has an element which is Zero\n"
     ]
    }
   ],
   "metadata": {}
  },
  {
   "cell_type": "markdown",
   "source": [
    "Note:as the procedure is being repeated im replicating the same using functions"
   ],
   "metadata": {}
  },
  {
   "cell_type": "code",
   "execution_count": 21,
   "source": [
    "def check_if_element_is_zero(arr1):\n",
    "    zero_element = False\n",
    "    for x in arr1:\n",
    "        if x==0:\n",
    "            zero_element = True\n",
    "    if zero_element:\n",
    "        print(\"Array has an element which is Zero\")\n",
    "    else:\n",
    "        print(\"Array has all non zero elements\")\n"
   ],
   "outputs": [],
   "metadata": {}
  },
  {
   "cell_type": "code",
   "execution_count": 22,
   "source": [
    "arr = np.array([1,2,3,5,0])\n",
    "print(arr)\n",
    "check_if_element_is_zero(arr)"
   ],
   "outputs": [
    {
     "output_type": "stream",
     "name": "stdout",
     "text": [
      "[1 2 3 5 0]\n",
      "Array has an element which is Zero\n"
     ]
    }
   ],
   "metadata": {}
  },
  {
   "cell_type": "code",
   "execution_count": 23,
   "source": [
    "# Create a numpy array with the elements \"3, -1, 3, 7, 2\", print the array and test if any of its elements is non-zero.\n",
    "arr1 = np.array([3,-1,3,7,2])\n",
    "print(arr1)\n",
    "zero_element = False\n",
    "for x in arr1:\n",
    "    if x==0:\n",
    "        zero_element = True\n",
    "\n",
    "if zero_element:\n",
    "    print(\"Array has an element which is Zero\")\n",
    "else:\n",
    "    print(\"Array has all non zero elements\")\n",
    "        "
   ],
   "outputs": [
    {
     "output_type": "stream",
     "name": "stdout",
     "text": [
      "[ 3 -1  3  7  2]\n",
      "Array has all non zero elements\n"
     ]
    }
   ],
   "metadata": {}
  },
  {
   "cell_type": "code",
   "execution_count": 24,
   "source": [
    "# Create a numpy array with the elements \"0, 0, 0, 0\", print the array and test if any of its elements is non-zero.\n",
    "arr3 = np.array([0,0,0,0])\n",
    "print(arr)\n",
    "check_if_element_is_zero(arr)"
   ],
   "outputs": [
    {
     "output_type": "stream",
     "name": "stdout",
     "text": [
      "[1 2 3 5 0]\n",
      "Array has an element which is Zero\n"
     ]
    }
   ],
   "metadata": {}
  },
  {
   "cell_type": "code",
   "execution_count": 25,
   "source": [
    "# Create a numpy array with the elements \"56, -2, 7\", print the array and the amount of memory required to store it.\n",
    "arr3 = np.array([56,-2,7])\n",
    "print(arr3)\n",
    "arr3.nbytes\n"
   ],
   "outputs": [
    {
     "output_type": "stream",
     "name": "stdout",
     "text": [
      "[56 -2  7]\n"
     ]
    },
    {
     "output_type": "execute_result",
     "data": {
      "text/plain": [
       "24"
      ]
     },
     "metadata": {},
     "execution_count": 25
    }
   ],
   "metadata": {}
  },
  {
   "cell_type": "code",
   "execution_count": 26,
   "source": [
    "import numpy as np"
   ],
   "outputs": [],
   "metadata": {}
  },
  {
   "cell_type": "code",
   "execution_count": 27,
   "source": [
    "# Create a numpy array with 10 zeros and print the array.\n",
    "arr4 = np.zeros(10)\n",
    "print(arr4)\n",
    "# Create a numpy array with 6 ones and print the array.\n",
    "arr5 = np.ones(6)\n",
    "print(arr5)\n",
    "# Create a numpy array with 12 '3's and print the array. [3 3 3 3 3 3 3 3 3 3 3 3]\n",
    "arr6 = np.ones(12)*3\n",
    "print(arr6)"
   ],
   "outputs": [
    {
     "output_type": "stream",
     "name": "stdout",
     "text": [
      "[0. 0. 0. 0. 0. 0. 0. 0. 0. 0.]\n",
      "[1. 1. 1. 1. 1. 1.]\n",
      "[3. 3. 3. 3. 3. 3. 3. 3. 3. 3. 3. 3.]\n"
     ]
    }
   ],
   "metadata": {}
  },
  {
   "cell_type": "code",
   "execution_count": 28,
   "source": [
    "# Create a numpy array of the integers from 8 to 20 and print the array. (make sure 20 itself is included) hint:  use \"arange\" method\n",
    "import numpy as np\n",
    "arr7 = np.arange(8,21,2)\n",
    "print(arr7)\n",
    "\n",
    "# Create a numpy array of the even integers from 8 to 20 and print the array. (make sure 20 itself is included)   hint:  use \"arange\" method\n"
   ],
   "outputs": [
    {
     "output_type": "stream",
     "name": "stdout",
     "text": [
      "[ 8 10 12 14 16 18 20]\n"
     ]
    }
   ],
   "metadata": {}
  },
  {
   "cell_type": "code",
   "execution_count": 29,
   "source": [
    "# Create a numpy array consisting of 100 random elements from normal distribution with mean of 2 and std of 0.5. Print the mean, max, min and std of the array.\n",
    "\n",
    "# Create a numpy array consisting of 1000 random elements from normal distribution with mean of 2 and std of 0.5. Print the mean, max, min and std of the array.\n",
    "\n",
    "# Create a numpy array consisting of 1000000 random elements from normal distribution with mean of 2 and std of 0.5. Print the mean, max, min and std of the array.\n",
    "\n",
    "# (Bonus question) Looking at the three above examples with 1000, 5000, and 10000 random elements, do you have any observations about mean and std values?\n",
    "# mean is decreasing as the random elements are increasing.\n",
    "# standard deviation is increasing as the random elements are increasing."
   ],
   "outputs": [],
   "metadata": {}
  },
  {
   "cell_type": "code",
   "execution_count": 30,
   "source": [
    "#Create a numpy array consisting of 100 random elements from normal distribution with mean of 2 and std of 0.5. Print the mean, max, min and std of the array.\n",
    "import numpy as np\n",
    "my_std = 0.5\n",
    "my_mean = 2\n",
    "x = my_std * np.random.randn(100) + my_mean\n",
    "print(\"Average:\",x.mean())\n",
    "print(\"Min\",min(x))\n",
    "print(\"Max\",max(x))\n",
    "print(\"Standard deviation\",x.std())\n"
   ],
   "outputs": [
    {
     "output_type": "stream",
     "name": "stdout",
     "text": [
      "Average: 2.0104754987243236\n",
      "Min 0.943910257519798\n",
      "Max 3.2242607217904533\n",
      "Standard deviation 0.5388917311791603\n"
     ]
    }
   ],
   "metadata": {}
  },
  {
   "cell_type": "code",
   "execution_count": 31,
   "source": [
    "# Create a numpy array consisting of 1000 random elements from normal distribution with mean of 2 and std of 0.5. Print the mean, max, min and std of the array.\n",
    "import numpy as np\n",
    "my_std = 0.5\n",
    "my_mean = 2\n",
    "x = my_std * np.random.randn(1000) + my_mean\n",
    "print(\"Average:\",x.mean())\n",
    "print(\"Min\",min(x))\n",
    "print(\"Max\",max(x))\n",
    "print(\"Standard deviation\",x.std())\n"
   ],
   "outputs": [
    {
     "output_type": "stream",
     "name": "stdout",
     "text": [
      "Average: 1.9942219417774587\n",
      "Min 0.5514834808072382\n",
      "Max 3.89505651085185\n",
      "Standard deviation 0.514752879026346\n"
     ]
    }
   ],
   "metadata": {}
  },
  {
   "cell_type": "code",
   "execution_count": 32,
   "source": [
    "# Create a numpy array consisting of 1000000 random elements from normal distribution with mean of 2 and std of 0.5. Print the mean, max, min and std of the array.\n",
    "import numpy as np\n",
    "my_std = 0.5\n",
    "my_mean = 2\n",
    "x = my_std * np.random.randn(1000000) + my_mean\n",
    "print(\"Average:\",x.mean())\n",
    "print(\"Min\",min(x))\n",
    "print(\"Max\",max(x))\n",
    "print(\"Standard deviation\",x.std())"
   ],
   "outputs": [
    {
     "output_type": "stream",
     "name": "stdout",
     "text": [
      "Average: 2.0000022586161124\n",
      "Min -0.4344578484637309\n",
      "Max 4.439381719664495\n",
      "Standard deviation 0.5002195643782247\n"
     ]
    }
   ],
   "metadata": {}
  }
 ],
 "metadata": {
  "kernelspec": {
   "name": "python3",
   "display_name": "Python 3.8.8 64-bit ('base': conda)"
  },
  "language_info": {
   "codemirror_mode": {
    "name": "ipython",
    "version": 3
   },
   "file_extension": ".py",
   "mimetype": "text/x-python",
   "name": "python",
   "nbconvert_exporter": "python",
   "pygments_lexer": "ipython3",
   "version": "3.8.8"
  },
  "interpreter": {
   "hash": "c888a93b0d52a09ff6a1addc953f4c862141d894b89ad7e5aa0615cb84f2018a"
  }
 },
 "nbformat": 4,
 "nbformat_minor": 1
}