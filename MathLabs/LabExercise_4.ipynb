{
 "cells": [
  {
   "cell_type": "markdown",
   "source": [
    "# Labs week 2"
   ],
   "metadata": {
    "collapsed": false,
    "pycharm": {
     "name": "#%% md\n"
    }
   }
  },
  {
   "cell_type": "markdown",
   "source": [
    "Students:\n",
    "* Daniyar Kurmanbayev\n",
    "* Purvi Jain\n",
    "* Rishabh Radhakrishnan\n",
    "* Vrinda Parameswaran"
   ],
   "metadata": {
    "collapsed": false,
    "pycharm": {
     "name": "#%% md\n"
    }
   }
  },
  {
   "cell_type": "markdown",
   "source": [
    "### Exercise 1:\n",
    "1. Using numpy arrays and slicing operations (:), define and print the following A, B, and C matrix:"
   ],
   "metadata": {
    "collapsed": false
   }
  },
  {
   "cell_type": "code",
   "execution_count": 213,
   "outputs": [],
   "source": [
    "import numpy as np"
   ],
   "metadata": {
    "collapsed": false,
    "pycharm": {
     "name": "#%%\n"
    }
   }
  },
  {
   "cell_type": "code",
   "execution_count": 214,
   "outputs": [
    {
     "data": {
      "text/plain": "(array([[5, 2, 3],\n        [6, 1, 3],\n        [2, 4, 1]]),\n array([[5, 2, 3],\n        [6, 1, 3],\n        [2, 4, 1]]),\n array([[5, 2, 3],\n        [6, 1, 3],\n        [2, 4, 1]]))"
     },
     "execution_count": 214,
     "metadata": {},
     "output_type": "execute_result"
    }
   ],
   "source": [
    "A = np.array([[5, 2, 3],\n",
    "              [6, 1, 3],\n",
    "              [2, 4, 1]])\n",
    "\n",
    "B = np.array([[5, 2, 3],\n",
    "              [6, 1, 3],\n",
    "              [2, 4, 1]])\n",
    "\n",
    "C = np.array([[5, 2, 3],\n",
    "              [6, 1, 3],\n",
    "              [2, 4, 1]])\n",
    "\n",
    "A, B , C"
   ],
   "metadata": {
    "collapsed": false,
    "pycharm": {
     "name": "#%%\n"
    }
   }
  },
  {
   "cell_type": "markdown",
   "source": [
    "2. Define D matrix using numpy:"
   ],
   "metadata": {
    "collapsed": false,
    "pycharm": {
     "name": "#%% md\n"
    }
   }
  },
  {
   "cell_type": "code",
   "execution_count": 215,
   "outputs": [
    {
     "data": {
      "text/plain": "array([[ 4, -7,  4],\n       [ 5,  6, -1],\n       [-4,  2,  5]])"
     },
     "execution_count": 215,
     "metadata": {},
     "output_type": "execute_result"
    }
   ],
   "source": [
    "D = np.array([[4, -7, 4],\n",
    "              [5, 6, -1],\n",
    "              [-4, 2, 5]])\n",
    "\n",
    "D"
   ],
   "metadata": {
    "collapsed": false,
    "pycharm": {
     "name": "#%%\n"
    }
   }
  },
  {
   "cell_type": "markdown",
   "source": [
    "3. Use numpy matmul to calculate AD and also DA. Are they equal?"
   ],
   "metadata": {
    "collapsed": false,
    "pycharm": {
     "name": "#%% md\n"
    }
   }
  },
  {
   "cell_type": "code",
   "execution_count": 216,
   "outputs": [
    {
     "data": {
      "text/plain": "array([[ 18, -17,  33],\n       [ 17, -30,  38],\n       [ 24,  12,   9]])"
     },
     "execution_count": 216,
     "metadata": {},
     "output_type": "execute_result"
    }
   ],
   "source": [
    "AD = np.matmul(A, D)\n",
    "AD"
   ],
   "metadata": {
    "collapsed": false,
    "pycharm": {
     "name": "#%%\n"
    }
   }
  },
  {
   "cell_type": "code",
   "execution_count": 217,
   "outputs": [
    {
     "data": {
      "text/plain": "array([[-14,  17,  -5],\n       [ 59,  12,  32],\n       [  2,  14,  -1]])"
     },
     "execution_count": 217,
     "metadata": {},
     "output_type": "execute_result"
    }
   ],
   "source": [
    "DA = np.matmul(D, A)\n",
    "DA"
   ],
   "metadata": {
    "collapsed": false,
    "pycharm": {
     "name": "#%%\n"
    }
   }
  },
  {
   "cell_type": "code",
   "execution_count": 218,
   "outputs": [
    {
     "name": "stdout",
     "output_type": "stream",
     "text": [
      "AD is not equal to DA\n"
     ]
    }
   ],
   "source": [
    "is_equal = not (AD == DA).__contains__(False)\n",
    "print(f'AD is {\"\" if is_equal else \"not\"} equal to DA')"
   ],
   "metadata": {
    "collapsed": false,
    "pycharm": {
     "name": "#%%\n"
    }
   }
  },
  {
   "cell_type": "markdown",
   "source": [
    "4. Manually calculate the determinant and inverse of B. Use numpy to calculate the same entities and confirm that your manual calculation agrees with your results from the jupyter notebook."
   ],
   "metadata": {
    "collapsed": false,
    "pycharm": {
     "name": "#%% md\n"
    }
   }
  },
  {
   "cell_type": "code",
   "execution_count": 219,
   "outputs": [
    {
     "data": {
      "text/plain": "array([[5, 2, 3],\n       [6, 1, 3],\n       [2, 4, 1]])"
     },
     "execution_count": 219,
     "metadata": {},
     "output_type": "execute_result"
    }
   ],
   "source": [
    "B"
   ],
   "metadata": {
    "collapsed": false,
    "pycharm": {
     "name": "#%%\n"
    }
   }
  },
  {
   "cell_type": "code",
   "execution_count": 220,
   "outputs": [],
   "source": [
    "M11 = (1 * 1) - (3 * 4)\n",
    "M12 = (6 * 1) - (3 * 2)\n",
    "M13 = (6 * 4) - (1 * 2)\n",
    "M21 = (2 * 1) - (3 * 4)\n",
    "M22 = (5 * 1) - (3 * 2)\n",
    "M23 = (5 * 4) - (2 * 2)\n",
    "M31 = (2 * 3) - (3 * 1)\n",
    "M32 = (5 * 3) - (3 * 6)\n",
    "M33 = (5 * 1) - (2 * 6)"
   ],
   "metadata": {
    "collapsed": false,
    "pycharm": {
     "name": "#%%\n"
    }
   }
  },
  {
   "cell_type": "code",
   "execution_count": 221,
   "outputs": [
    {
     "data": {
      "text/plain": "11"
     },
     "execution_count": 221,
     "metadata": {},
     "output_type": "execute_result"
    }
   ],
   "source": [
    "my_determinant = (5 * M11) - (2 * M12) + (3 * M13)\n",
    "my_determinant"
   ],
   "metadata": {
    "collapsed": false,
    "pycharm": {
     "name": "#%%\n"
    }
   }
  },
  {
   "cell_type": "code",
   "execution_count": 222,
   "outputs": [
    {
     "data": {
      "text/plain": "array([[-11,   0,  22],\n       [ 10,  -1, -16],\n       [  3,   3,  -7]])"
     },
     "execution_count": 222,
     "metadata": {},
     "output_type": "execute_result"
    }
   ],
   "source": [
    "B_minor_matrix = [[M11, M12, M13],\n",
    "                [M21, M22, M23],\n",
    "                [M31, M32, M33]]\n",
    "\n",
    "B_cofactor = [[((-1) ** (j + i + 2)) * val for j, val in enumerate(row)] for i, row in enumerate(B_minor_matrix)]\n",
    "B_np_cofactor = np.array(B_cofactor)\n",
    "B_np_cofactor"
   ],
   "metadata": {
    "collapsed": false,
    "pycharm": {
     "name": "#%%\n"
    }
   }
  },
  {
   "cell_type": "code",
   "execution_count": 223,
   "outputs": [
    {
     "data": {
      "text/plain": "array([[ -7,   3,   3],\n       [-16,  -1,  10],\n       [ 22,   0, -11]])"
     },
     "execution_count": 223,
     "metadata": {},
     "output_type": "execute_result"
    }
   ],
   "source": [
    "B_transpose_cofactor = np.flip(B_np_cofactor)\n",
    "B_transpose_cofactor"
   ],
   "metadata": {
    "collapsed": false,
    "pycharm": {
     "name": "#%%\n"
    }
   }
  },
  {
   "cell_type": "code",
   "execution_count": 224,
   "outputs": [
    {
     "data": {
      "text/plain": "array([[-0.63636364,  0.27272727,  0.27272727],\n       [-1.45454545, -0.09090909,  0.90909091],\n       [ 2.        ,  0.        , -1.        ]])"
     },
     "execution_count": 224,
     "metadata": {},
     "output_type": "execute_result"
    }
   ],
   "source": [
    "my_inverse = (1 / my_determinant) * B_transpose_cofactor\n",
    "my_inverse"
   ],
   "metadata": {
    "collapsed": false,
    "pycharm": {
     "name": "#%%\n"
    }
   }
  },
  {
   "cell_type": "code",
   "execution_count": 225,
   "outputs": [
    {
     "data": {
      "text/plain": "11.000000000000002"
     },
     "execution_count": 225,
     "metadata": {},
     "output_type": "execute_result"
    }
   ],
   "source": [
    "np_determinant = np.linalg.det(B)\n",
    "np_determinant"
   ],
   "metadata": {
    "collapsed": false,
    "pycharm": {
     "name": "#%%\n"
    }
   }
  },
  {
   "cell_type": "code",
   "execution_count": 226,
   "outputs": [
    {
     "data": {
      "text/plain": "array([[-1.        ,  0.90909091,  0.27272727],\n       [ 0.        , -0.09090909,  0.27272727],\n       [ 2.        , -1.45454545, -0.63636364]])"
     },
     "execution_count": 226,
     "metadata": {},
     "output_type": "execute_result"
    }
   ],
   "source": [
    "np_inverse = np.linalg.inv(B)\n",
    "np_inverse"
   ],
   "metadata": {
    "collapsed": false,
    "pycharm": {
     "name": "#%%\n"
    }
   }
  },
  {
   "cell_type": "markdown",
   "source": [
    "5. Use numpy to calculate the inverse of D. Confirm that 〖DD〗^(-1) and D^(-1) D both are 3-by-3 identity matrices. Do you have any observations?"
   ],
   "metadata": {
    "collapsed": false,
    "pycharm": {
     "name": "#%% md\n"
    }
   }
  },
  {
   "cell_type": "code",
   "execution_count": 227,
   "outputs": [
    {
     "data": {
      "text/plain": "array([[ True,  True,  True],\n       [ True,  True,  True],\n       [ True,  True,  True]])"
     },
     "execution_count": 227,
     "metadata": {},
     "output_type": "execute_result"
    }
   ],
   "source": [
    "D_inverse = np.linalg.inv(D)\n",
    "DDi = D * D_inverse\n",
    "DiD = D_inverse * D\n",
    "\n",
    "DDi == DiD"
   ],
   "metadata": {
    "collapsed": false,
    "pycharm": {
     "name": "#%%\n"
    }
   }
  },
  {
   "cell_type": "markdown",
   "source": [
    "### Exercise 2:\n",
    "1. Calculate the bag of words (without TF-IDF, just word counts) matrix for the following 5 phrases:\n",
    "    * college student\n",
    "    * airport taxi driver\n",
    "    * Toronto art museum\n",
    "    * life art\n",
    "    * machine learning student\n",
    "\n",
    "Hints: How many rows should be there? How many columns should be there?"
   ],
   "metadata": {
    "collapsed": false,
    "pycharm": {
     "name": "#%% md\n"
    }
   }
  },
  {
   "cell_type": "code",
   "execution_count": 228,
   "outputs": [],
   "source": [
    "def bag_of_words(sent, vocab_length, word_to_index):\n",
    "    words = []\n",
    "    rep = np.zeros(vocab_length)\n",
    "    for w in sent:\n",
    "        if w not in words:\n",
    "            ind=word_to_index[w]\n",
    "            rep[ind]+=1\n",
    "            words.append(w)\n",
    "    return rep"
   ],
   "metadata": {
    "collapsed": false,
    "pycharm": {
     "name": "#%%\n"
    }
   }
  },
  {
   "cell_type": "code",
   "execution_count": 229,
   "outputs": [
    {
     "data": {
      "text/plain": "[[0, 0, 0, 0, 0, 0, 0, 1, 1, 0, 0],\n [1, 0, 0, 1, 0, 0, 1, 0, 0, 0, 0],\n [0, 0, 0, 0, 1, 1, 0, 0, 0, 0, 0],\n [0, 0, 0, 0, 1, 0, 0, 0, 0, 1, 0],\n [0, 1, 1, 0, 0, 0, 0, 1, 0, 0, 0]]"
     },
     "execution_count": 229,
     "metadata": {},
     "output_type": "execute_result"
    }
   ],
   "source": [
    "phrases = ['college student', 'airport taxi driver', 'Toronto art museum', 'life art', 'machine learning student']\n",
    "words = {word.lower() for phrase in phrases for word in phrase.split(' ')}\n",
    "\n",
    "bows = [[int(phrase.__contains__(word)) for word in words] for phrase in phrases]\n",
    "bows"
   ],
   "metadata": {
    "collapsed": false,
    "pycharm": {
     "name": "#%%\n"
    }
   }
  },
  {
   "cell_type": "markdown",
   "source": [
    "2. Calculate the IDF for the words “college” and “art”."
   ],
   "metadata": {
    "collapsed": false,
    "pycharm": {
     "name": "#%% md\n"
    }
   }
  },
  {
   "cell_type": "code",
   "execution_count": 230,
   "outputs": [
    {
     "data": {
      "text/plain": "1.6094379124341003"
     },
     "execution_count": 230,
     "metadata": {},
     "output_type": "execute_result"
    }
   ],
   "source": [
    "phrases_college = [phrase.__contains__('college') for phrase in phrases].count(True)\n",
    "IDF_college = np.log(len(phrases) / phrases_college)\n",
    "IDF_college"
   ],
   "metadata": {
    "collapsed": false,
    "pycharm": {
     "name": "#%%\n"
    }
   }
  },
  {
   "cell_type": "code",
   "execution_count": 231,
   "outputs": [
    {
     "data": {
      "text/plain": "0.9162907318741551"
     },
     "execution_count": 231,
     "metadata": {},
     "output_type": "execute_result"
    }
   ],
   "source": [
    "phrases_art = [phrase.__contains__('art') for phrase in phrases].count(True)\n",
    "IDF_art = np.log(len(phrases) / phrases_art)\n",
    "IDF_art\n"
   ],
   "metadata": {
    "collapsed": false,
    "pycharm": {
     "name": "#%%\n"
    }
   }
  }
 ],
 "metadata": {
  "kernelspec": {
   "display_name": "Python 3",
   "language": "python",
   "name": "python3"
  },
  "language_info": {
   "codemirror_mode": {
    "name": "ipython",
    "version": 2
   },
   "file_extension": ".py",
   "mimetype": "text/x-python",
   "name": "python",
   "nbconvert_exporter": "python",
   "pygments_lexer": "ipython2",
   "version": "2.7.6"
  }
 },
 "nbformat": 4,
 "nbformat_minor": 0
}