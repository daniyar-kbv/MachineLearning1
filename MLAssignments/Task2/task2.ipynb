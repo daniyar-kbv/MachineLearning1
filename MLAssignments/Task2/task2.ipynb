{
 "cells": [
  {
   "cell_type": "markdown",
   "source": [
    "### Instructions to Run this python code\n",
    "#### Give url as https://medium.com/@subashgandyer/papa-what-is-a-neural-network-c5e5cc427c7"
   ],
   "metadata": {
    "collapsed": false,
    "pycharm": {
     "name": "#%% md\n"
    }
   }
  },
  {
   "cell_type": "markdown",
   "source": [
    "Packages import"
   ],
   "metadata": {
    "collapsed": false,
    "pycharm": {
     "name": "#%% md\n"
    }
   }
  },
  {
   "cell_type": "code",
   "execution_count": 7,
   "outputs": [],
   "source": [
    "from bs4 import BeautifulSoup\n",
    "import os\n",
    "import requests\n",
    "import re\n",
    "import sys"
   ],
   "metadata": {
    "collapsed": false,
    "pycharm": {
     "name": "#%%\n"
    }
   }
  },
  {
   "cell_type": "markdown",
   "source": [
    "Function to get the html source text of the medium article"
   ],
   "metadata": {
    "collapsed": false,
    "pycharm": {
     "name": "#%% md\n"
    }
   }
  },
  {
   "cell_type": "code",
   "source": [
    "def get_page():\n",
    "\tglobal url\n",
    "\n",
    "\turl = input('Enter url of a medium article: ')\n",
    "\n",
    "\t# handling possible error\n",
    "\tif not re.match(r'https?://medium.com/', url):\n",
    "\t\treturn\n",
    "\n",
    "\tres = requests.get(url)\n",
    "\n",
    "\tres.raise_for_status()\n",
    "\tsoup = BeautifulSoup(res.text, 'html.parser')\n",
    "\treturn soup"
   ],
   "metadata": {
    "collapsed": false,
    "pycharm": {
     "name": "#%%\n"
    }
   },
   "execution_count": 8,
   "outputs": []
  },
  {
   "cell_type": "markdown",
   "source": [
    "Function to remove all the html tags and replace some with specific strings"
   ],
   "metadata": {
    "collapsed": false,
    "pycharm": {
     "name": "#%% md\n"
    }
   }
  },
  {
   "cell_type": "code",
   "execution_count": 9,
   "outputs": [],
   "source": [
    "def clean(text):\n",
    "\trep = {\"<br>\": \"\\n\", \"<br/>\": \"\\n\", \"<li>\":  \"\\n\"}\n",
    "\trep = dict((re.escape(k), v) for k, v in rep.items())\n",
    "\tpattern = re.compile(\"|\".join(rep.keys()))\n",
    "\ttext = pattern.sub(lambda m: rep[re.escape(m.group(0))], text)\n",
    "\ttext = re.sub('<(.*?)>', '', text)\n",
    "\treturn text"
   ],
   "metadata": {
    "collapsed": false,
    "pycharm": {
     "name": "#%%\n"
    }
   }
  },
  {
   "cell_type": "code",
   "execution_count": 10,
   "outputs": [],
   "source": [
    "def collect_text(soup):\n",
    "\ttext = f'url: {url}\\n\\n'\n",
    "\tpara_text = soup.find_all('p')\n",
    "\tprint(f\"paragraphs text = \\n {para_text}\")\n",
    "\tfor para in para_text:\n",
    "\t\ttext += f\"{para.text}\\n\\n\"\n",
    "\treturn text"
   ],
   "metadata": {
    "collapsed": false,
    "pycharm": {
     "name": "#%%\n"
    }
   }
  },
  {
   "cell_type": "markdown",
   "source": [
    "Function to save file in the current directory"
   ],
   "metadata": {
    "collapsed": false,
    "pycharm": {
     "name": "#%% md\n"
    }
   }
  },
  {
   "cell_type": "code",
   "execution_count": 11,
   "outputs": [],
   "source": [
    "def save_file(text):\n",
    "\tdirectory_path = './scraped_articles'\n",
    "\n",
    "\tif not os.path.exists(directory_path):\n",
    "\t\tos.mkdir(directory_path)\n",
    "\n",
    "\tarticle_name = url.split(\"/\")[-1]\n",
    "\tfile_path = f'{directory_path}/{article_name}.txt'\n",
    "\n",
    "\twith open(file_path, 'w') as file:\n",
    "\t\tfile.write(text)\n",
    "\n",
    "\tprint(f'File saved in directory {file_path}')"
   ],
   "metadata": {
    "collapsed": false,
    "pycharm": {
     "name": "#%%\n"
    }
   }
  },
  {
   "cell_type": "code",
   "execution_count": 12,
   "outputs": [
    {
     "name": "stdout",
     "output_type": "stream",
     "text": [
      "paragraphs text = \n",
      " [<p class=\"gu gv cq gw b gx gy gz ha hb hc hd he hf hg hh hi hj hk hl hm hn ho hp hq hr ci dn\" id=\"315e\">It’s common for native iOS apps to include web components, particularly to display web content. However, communicating with a web view is not always straightforward as it requires a “bridge” between Swift and Javascript.</p>, <p class=\"gu gv cq gw b gx gy gz ha hb hc hd he hf hg hh hi hj hk hl hm hn ho hp hq hr ci dn\" id=\"4ba5\">Recently I worked on a problem where a user journey started in a web view but, due to a hardware integration, most of the logic and processing had to be…</p>]\n",
      "File saved in directory ./scraped_articles/ios-wkwebview-communication-using-javascript-and-swift-ee077e0127eb.txt\n"
     ]
    }
   ],
   "source": [
    "page = get_page()\n",
    "\n",
    "if page:\n",
    "    text = collect_text(page)\n",
    "    save_file(text)\n",
    "else:\n",
    "    print('Please enter a valid website, or make sure it is a medium article')"
   ],
   "metadata": {
    "collapsed": false,
    "pycharm": {
     "name": "#%%\n"
    }
   }
  }
 ],
 "metadata": {
  "kernelspec": {
   "name": "pycharm-9c4c61c2",
   "language": "python",
   "display_name": "PyCharm (Task2)"
  },
  "language_info": {
   "codemirror_mode": {
    "name": "ipython",
    "version": 2
   },
   "file_extension": ".py",
   "mimetype": "text/x-python",
   "name": "python",
   "nbconvert_exporter": "python",
   "pygments_lexer": "ipython2",
   "version": "2.7.6"
  }
 },
 "nbformat": 4,
 "nbformat_minor": 0
}