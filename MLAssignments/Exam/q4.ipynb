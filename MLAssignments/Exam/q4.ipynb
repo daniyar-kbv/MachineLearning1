{
 "cells": [
  {
   "cell_type": "code",
   "execution_count": 125,
   "metadata": {
    "collapsed": true
   },
   "outputs": [],
   "source": [
    "from sklearn.linear_model import LogisticRegression\n",
    "from sklearn.neighbors import KNeighborsClassifier\n",
    "from sklearn.svm import SVC\n",
    "from sklearn.tree import DecisionTreeClassifier\n",
    "from sklearn.ensemble import RandomForestClassifier\n",
    "from sklearn.impute import SimpleImputer\n",
    "from sklearn.preprocessing import LabelEncoder\n",
    "from sklearn.model_selection import train_test_split\n",
    "import pandas as pd\n",
    "import numpy as np\n",
    "import time"
   ]
  },
  {
   "cell_type": "code",
   "execution_count": 126,
   "outputs": [
    {
     "data": {
      "text/plain": "       destination  passanger weather  temperature  time  \\\n0  No Urgent Place      Alone   Sunny           55   2PM   \n1  No Urgent Place  Friend(s)   Sunny           80  10AM   \n2  No Urgent Place  Friend(s)   Sunny           80  10AM   \n3  No Urgent Place  Friend(s)   Sunny           80   2PM   \n4  No Urgent Place  Friend(s)   Sunny           80   2PM   \n\n                  coupon expiration  gender age      maritalStatus  ...  \\\n0        Restaurant(<20)         1d  Female  21  Unmarried partner  ...   \n1           Coffee House         2h  Female  21  Unmarried partner  ...   \n2  Carry out & Take away         2h  Female  21  Unmarried partner  ...   \n3           Coffee House         2h  Female  21  Unmarried partner  ...   \n4           Coffee House         1d  Female  21  Unmarried partner  ...   \n\n   CoffeeHouse CarryAway RestaurantLessThan20 Restaurant20To50  \\\n0        never       NaN                  4~8              1~3   \n1        never       NaN                  4~8              1~3   \n2        never       NaN                  4~8              1~3   \n3        never       NaN                  4~8              1~3   \n4        never       NaN                  4~8              1~3   \n\n  toCoupon_GEQ5min toCoupon_GEQ15min toCoupon_GEQ25min direction_same  \\\n0                1                 0                 0              0   \n1                1                 0                 0              0   \n2                1                 1                 0              0   \n3                1                 1                 0              0   \n4                1                 1                 0              0   \n\n  direction_opp  Y  \n0             1  1  \n1             1  0  \n2             1  1  \n3             1  0  \n4             1  0  \n\n[5 rows x 26 columns]",
      "text/html": "<div>\n<style scoped>\n    .dataframe tbody tr th:only-of-type {\n        vertical-align: middle;\n    }\n\n    .dataframe tbody tr th {\n        vertical-align: top;\n    }\n\n    .dataframe thead th {\n        text-align: right;\n    }\n</style>\n<table border=\"1\" class=\"dataframe\">\n  <thead>\n    <tr style=\"text-align: right;\">\n      <th></th>\n      <th>destination</th>\n      <th>passanger</th>\n      <th>weather</th>\n      <th>temperature</th>\n      <th>time</th>\n      <th>coupon</th>\n      <th>expiration</th>\n      <th>gender</th>\n      <th>age</th>\n      <th>maritalStatus</th>\n      <th>...</th>\n      <th>CoffeeHouse</th>\n      <th>CarryAway</th>\n      <th>RestaurantLessThan20</th>\n      <th>Restaurant20To50</th>\n      <th>toCoupon_GEQ5min</th>\n      <th>toCoupon_GEQ15min</th>\n      <th>toCoupon_GEQ25min</th>\n      <th>direction_same</th>\n      <th>direction_opp</th>\n      <th>Y</th>\n    </tr>\n  </thead>\n  <tbody>\n    <tr>\n      <th>0</th>\n      <td>No Urgent Place</td>\n      <td>Alone</td>\n      <td>Sunny</td>\n      <td>55</td>\n      <td>2PM</td>\n      <td>Restaurant(&lt;20)</td>\n      <td>1d</td>\n      <td>Female</td>\n      <td>21</td>\n      <td>Unmarried partner</td>\n      <td>...</td>\n      <td>never</td>\n      <td>NaN</td>\n      <td>4~8</td>\n      <td>1~3</td>\n      <td>1</td>\n      <td>0</td>\n      <td>0</td>\n      <td>0</td>\n      <td>1</td>\n      <td>1</td>\n    </tr>\n    <tr>\n      <th>1</th>\n      <td>No Urgent Place</td>\n      <td>Friend(s)</td>\n      <td>Sunny</td>\n      <td>80</td>\n      <td>10AM</td>\n      <td>Coffee House</td>\n      <td>2h</td>\n      <td>Female</td>\n      <td>21</td>\n      <td>Unmarried partner</td>\n      <td>...</td>\n      <td>never</td>\n      <td>NaN</td>\n      <td>4~8</td>\n      <td>1~3</td>\n      <td>1</td>\n      <td>0</td>\n      <td>0</td>\n      <td>0</td>\n      <td>1</td>\n      <td>0</td>\n    </tr>\n    <tr>\n      <th>2</th>\n      <td>No Urgent Place</td>\n      <td>Friend(s)</td>\n      <td>Sunny</td>\n      <td>80</td>\n      <td>10AM</td>\n      <td>Carry out &amp; Take away</td>\n      <td>2h</td>\n      <td>Female</td>\n      <td>21</td>\n      <td>Unmarried partner</td>\n      <td>...</td>\n      <td>never</td>\n      <td>NaN</td>\n      <td>4~8</td>\n      <td>1~3</td>\n      <td>1</td>\n      <td>1</td>\n      <td>0</td>\n      <td>0</td>\n      <td>1</td>\n      <td>1</td>\n    </tr>\n    <tr>\n      <th>3</th>\n      <td>No Urgent Place</td>\n      <td>Friend(s)</td>\n      <td>Sunny</td>\n      <td>80</td>\n      <td>2PM</td>\n      <td>Coffee House</td>\n      <td>2h</td>\n      <td>Female</td>\n      <td>21</td>\n      <td>Unmarried partner</td>\n      <td>...</td>\n      <td>never</td>\n      <td>NaN</td>\n      <td>4~8</td>\n      <td>1~3</td>\n      <td>1</td>\n      <td>1</td>\n      <td>0</td>\n      <td>0</td>\n      <td>1</td>\n      <td>0</td>\n    </tr>\n    <tr>\n      <th>4</th>\n      <td>No Urgent Place</td>\n      <td>Friend(s)</td>\n      <td>Sunny</td>\n      <td>80</td>\n      <td>2PM</td>\n      <td>Coffee House</td>\n      <td>1d</td>\n      <td>Female</td>\n      <td>21</td>\n      <td>Unmarried partner</td>\n      <td>...</td>\n      <td>never</td>\n      <td>NaN</td>\n      <td>4~8</td>\n      <td>1~3</td>\n      <td>1</td>\n      <td>1</td>\n      <td>0</td>\n      <td>0</td>\n      <td>1</td>\n      <td>0</td>\n    </tr>\n  </tbody>\n</table>\n<p>5 rows × 26 columns</p>\n</div>"
     },
     "execution_count": 126,
     "metadata": {},
     "output_type": "execute_result"
    }
   ],
   "source": [
    "df = pd.read_csv('in-vehicle-coupon-recommendation.csv')\n",
    "df.head()\n"
   ],
   "metadata": {
    "collapsed": false,
    "pycharm": {
     "name": "#%%\n"
    }
   }
  },
  {
   "cell_type": "code",
   "execution_count": 127,
   "outputs": [
    {
     "data": {
      "text/plain": "(12684, 26)"
     },
     "execution_count": 127,
     "metadata": {},
     "output_type": "execute_result"
    }
   ],
   "source": [
    "df.shape"
   ],
   "metadata": {
    "collapsed": false,
    "pycharm": {
     "name": "#%%\n"
    }
   }
  },
  {
   "cell_type": "code",
   "execution_count": 128,
   "outputs": [
    {
     "name": "stdout",
     "output_type": "stream",
     "text": [
      "<class 'pandas.core.frame.DataFrame'>\n",
      "RangeIndex: 12684 entries, 0 to 12683\n",
      "Data columns (total 26 columns):\n",
      " #   Column                Non-Null Count  Dtype \n",
      "---  ------                --------------  ----- \n",
      " 0   destination           12684 non-null  object\n",
      " 1   passanger             12684 non-null  object\n",
      " 2   weather               12684 non-null  object\n",
      " 3   temperature           12684 non-null  int64 \n",
      " 4   time                  12684 non-null  object\n",
      " 5   coupon                12684 non-null  object\n",
      " 6   expiration            12684 non-null  object\n",
      " 7   gender                12684 non-null  object\n",
      " 8   age                   12684 non-null  object\n",
      " 9   maritalStatus         12684 non-null  object\n",
      " 10  has_children          12684 non-null  int64 \n",
      " 11  education             12684 non-null  object\n",
      " 12  occupation            12684 non-null  object\n",
      " 13  income                12684 non-null  object\n",
      " 14  car                   108 non-null    object\n",
      " 15  Bar                   12577 non-null  object\n",
      " 16  CoffeeHouse           12467 non-null  object\n",
      " 17  CarryAway             12533 non-null  object\n",
      " 18  RestaurantLessThan20  12554 non-null  object\n",
      " 19  Restaurant20To50      12495 non-null  object\n",
      " 20  toCoupon_GEQ5min      12684 non-null  int64 \n",
      " 21  toCoupon_GEQ15min     12684 non-null  int64 \n",
      " 22  toCoupon_GEQ25min     12684 non-null  int64 \n",
      " 23  direction_same        12684 non-null  int64 \n",
      " 24  direction_opp         12684 non-null  int64 \n",
      " 25  Y                     12684 non-null  int64 \n",
      "dtypes: int64(8), object(18)\n",
      "memory usage: 2.5+ MB\n"
     ]
    }
   ],
   "source": [
    "df.info()"
   ],
   "metadata": {
    "collapsed": false,
    "pycharm": {
     "name": "#%%\n"
    }
   }
  },
  {
   "cell_type": "code",
   "execution_count": 129,
   "outputs": [],
   "source": [
    "le = LabelEncoder()"
   ],
   "metadata": {
    "collapsed": false,
    "pycharm": {
     "name": "#%%\n"
    }
   }
  },
  {
   "cell_type": "code",
   "execution_count": 130,
   "outputs": [],
   "source": [
    "categorical_features = ['destination', 'passanger', 'weather', 'time', 'coupon', 'expiration',\n",
    "                        'gender', 'age', 'maritalStatus', 'education', 'occupation', 'income',\n",
    "                        'car', 'Bar', 'CoffeeHouse', 'CarryAway', 'RestaurantLessThan20',\n",
    "                        'Restaurant20To50']\n",
    "\n",
    "for feature in categorical_features:\n",
    "    df[f'{feature}_clean'] = le.fit_transform(df[feature])\n",
    "    df.drop(feature, inplace=True, axis=1)"
   ],
   "metadata": {
    "collapsed": false,
    "pycharm": {
     "name": "#%%\n"
    }
   }
  },
  {
   "cell_type": "code",
   "execution_count": 131,
   "outputs": [
    {
     "name": "stdout",
     "output_type": "stream",
     "text": [
      "<class 'pandas.core.frame.DataFrame'>\n",
      "RangeIndex: 12684 entries, 0 to 12683\n",
      "Data columns (total 26 columns):\n",
      " #   Column                      Non-Null Count  Dtype\n",
      "---  ------                      --------------  -----\n",
      " 0   temperature                 12684 non-null  int64\n",
      " 1   has_children                12684 non-null  int64\n",
      " 2   toCoupon_GEQ5min            12684 non-null  int64\n",
      " 3   toCoupon_GEQ15min           12684 non-null  int64\n",
      " 4   toCoupon_GEQ25min           12684 non-null  int64\n",
      " 5   direction_same              12684 non-null  int64\n",
      " 6   direction_opp               12684 non-null  int64\n",
      " 7   Y                           12684 non-null  int64\n",
      " 8   destination_clean           12684 non-null  int64\n",
      " 9   passanger_clean             12684 non-null  int64\n",
      " 10  weather_clean               12684 non-null  int64\n",
      " 11  time_clean                  12684 non-null  int64\n",
      " 12  coupon_clean                12684 non-null  int64\n",
      " 13  expiration_clean            12684 non-null  int64\n",
      " 14  gender_clean                12684 non-null  int64\n",
      " 15  age_clean                   12684 non-null  int64\n",
      " 16  maritalStatus_clean         12684 non-null  int64\n",
      " 17  education_clean             12684 non-null  int64\n",
      " 18  occupation_clean            12684 non-null  int64\n",
      " 19  income_clean                12684 non-null  int64\n",
      " 20  car_clean                   12684 non-null  int64\n",
      " 21  Bar_clean                   12684 non-null  int64\n",
      " 22  CoffeeHouse_clean           12684 non-null  int64\n",
      " 23  CarryAway_clean             12684 non-null  int64\n",
      " 24  RestaurantLessThan20_clean  12684 non-null  int64\n",
      " 25  Restaurant20To50_clean      12684 non-null  int64\n",
      "dtypes: int64(26)\n",
      "memory usage: 2.5 MB\n"
     ]
    }
   ],
   "source": [
    "df.info()"
   ],
   "metadata": {
    "collapsed": false,
    "pycharm": {
     "name": "#%%\n"
    }
   }
  },
  {
   "cell_type": "code",
   "execution_count": 132,
   "outputs": [],
   "source": [
    "X = df.drop('Y', axis=1)\n",
    "y = df['Y']"
   ],
   "metadata": {
    "collapsed": false,
    "pycharm": {
     "name": "#%%\n"
    }
   }
  },
  {
   "cell_type": "code",
   "execution_count": 133,
   "outputs": [
    {
     "data": {
      "text/plain": "       temperature  has_children  toCoupon_GEQ5min  toCoupon_GEQ15min  \\\n0               55             1                 1                  0   \n1               80             1                 1                  0   \n2               80             1                 1                  1   \n3               80             1                 1                  1   \n4               80             1                 1                  1   \n...            ...           ...               ...                ...   \n12679           55             0                 1                  0   \n12680           55             0                 1                  0   \n12681           30             0                 1                  0   \n12682           30             0                 1                  1   \n12683           80             0                 1                  0   \n\n       toCoupon_GEQ25min  direction_same  direction_opp  destination_clean  \\\n0                      0               0              1                  1   \n1                      0               0              1                  1   \n2                      0               0              1                  1   \n3                      0               0              1                  1   \n4                      0               0              1                  1   \n...                  ...             ...            ...                ...   \n12679                  0               1              0                  0   \n12680                  0               0              1                  2   \n12681                  0               1              0                  2   \n12682                  1               0              1                  2   \n12683                  0               1              0                  2   \n\n       passanger_clean  weather_clean  ...  maritalStatus_clean  \\\n0                    0              2  ...                    3   \n1                    1              2  ...                    3   \n2                    1              2  ...                    3   \n3                    1              2  ...                    3   \n4                    1              2  ...                    3   \n...                ...            ...  ...                  ...   \n12679                3              0  ...                    2   \n12680                0              0  ...                    2   \n12681                0              1  ...                    2   \n12682                0              1  ...                    2   \n12683                0              2  ...                    2   \n\n       education_clean  occupation_clean  income_clean  car_clean  Bar_clean  \\\n0                    5                24             3          5          4   \n1                    5                24             3          5          4   \n2                    5                24             3          5          4   \n3                    5                24             3          5          4   \n4                    5                24             3          5          4   \n...                ...               ...           ...        ...        ...   \n12679                1                21             6          5          4   \n12680                1                21             6          5          4   \n12681                1                21             6          5          4   \n12682                1                21             6          5          4   \n12683                1                21             6          5          4   \n\n       CoffeeHouse_clean  CarryAway_clean  RestaurantLessThan20_clean  \\\n0                      4                5                           1   \n1                      4                5                           1   \n2                      4                5                           1   \n3                      4                5                           1   \n4                      4                5                           1   \n...                  ...              ...                         ...   \n12679                  4                0                           1   \n12680                  4                0                           1   \n12681                  4                0                           1   \n12682                  4                0                           1   \n12683                  4                0                           1   \n\n       Restaurant20To50_clean  \n0                           0  \n1                           0  \n2                           0  \n3                           0  \n4                           0  \n...                       ...  \n12679                       0  \n12680                       0  \n12681                       0  \n12682                       0  \n12683                       0  \n\n[12684 rows x 25 columns]",
      "text/html": "<div>\n<style scoped>\n    .dataframe tbody tr th:only-of-type {\n        vertical-align: middle;\n    }\n\n    .dataframe tbody tr th {\n        vertical-align: top;\n    }\n\n    .dataframe thead th {\n        text-align: right;\n    }\n</style>\n<table border=\"1\" class=\"dataframe\">\n  <thead>\n    <tr style=\"text-align: right;\">\n      <th></th>\n      <th>temperature</th>\n      <th>has_children</th>\n      <th>toCoupon_GEQ5min</th>\n      <th>toCoupon_GEQ15min</th>\n      <th>toCoupon_GEQ25min</th>\n      <th>direction_same</th>\n      <th>direction_opp</th>\n      <th>destination_clean</th>\n      <th>passanger_clean</th>\n      <th>weather_clean</th>\n      <th>...</th>\n      <th>maritalStatus_clean</th>\n      <th>education_clean</th>\n      <th>occupation_clean</th>\n      <th>income_clean</th>\n      <th>car_clean</th>\n      <th>Bar_clean</th>\n      <th>CoffeeHouse_clean</th>\n      <th>CarryAway_clean</th>\n      <th>RestaurantLessThan20_clean</th>\n      <th>Restaurant20To50_clean</th>\n    </tr>\n  </thead>\n  <tbody>\n    <tr>\n      <th>0</th>\n      <td>55</td>\n      <td>1</td>\n      <td>1</td>\n      <td>0</td>\n      <td>0</td>\n      <td>0</td>\n      <td>1</td>\n      <td>1</td>\n      <td>0</td>\n      <td>2</td>\n      <td>...</td>\n      <td>3</td>\n      <td>5</td>\n      <td>24</td>\n      <td>3</td>\n      <td>5</td>\n      <td>4</td>\n      <td>4</td>\n      <td>5</td>\n      <td>1</td>\n      <td>0</td>\n    </tr>\n    <tr>\n      <th>1</th>\n      <td>80</td>\n      <td>1</td>\n      <td>1</td>\n      <td>0</td>\n      <td>0</td>\n      <td>0</td>\n      <td>1</td>\n      <td>1</td>\n      <td>1</td>\n      <td>2</td>\n      <td>...</td>\n      <td>3</td>\n      <td>5</td>\n      <td>24</td>\n      <td>3</td>\n      <td>5</td>\n      <td>4</td>\n      <td>4</td>\n      <td>5</td>\n      <td>1</td>\n      <td>0</td>\n    </tr>\n    <tr>\n      <th>2</th>\n      <td>80</td>\n      <td>1</td>\n      <td>1</td>\n      <td>1</td>\n      <td>0</td>\n      <td>0</td>\n      <td>1</td>\n      <td>1</td>\n      <td>1</td>\n      <td>2</td>\n      <td>...</td>\n      <td>3</td>\n      <td>5</td>\n      <td>24</td>\n      <td>3</td>\n      <td>5</td>\n      <td>4</td>\n      <td>4</td>\n      <td>5</td>\n      <td>1</td>\n      <td>0</td>\n    </tr>\n    <tr>\n      <th>3</th>\n      <td>80</td>\n      <td>1</td>\n      <td>1</td>\n      <td>1</td>\n      <td>0</td>\n      <td>0</td>\n      <td>1</td>\n      <td>1</td>\n      <td>1</td>\n      <td>2</td>\n      <td>...</td>\n      <td>3</td>\n      <td>5</td>\n      <td>24</td>\n      <td>3</td>\n      <td>5</td>\n      <td>4</td>\n      <td>4</td>\n      <td>5</td>\n      <td>1</td>\n      <td>0</td>\n    </tr>\n    <tr>\n      <th>4</th>\n      <td>80</td>\n      <td>1</td>\n      <td>1</td>\n      <td>1</td>\n      <td>0</td>\n      <td>0</td>\n      <td>1</td>\n      <td>1</td>\n      <td>1</td>\n      <td>2</td>\n      <td>...</td>\n      <td>3</td>\n      <td>5</td>\n      <td>24</td>\n      <td>3</td>\n      <td>5</td>\n      <td>4</td>\n      <td>4</td>\n      <td>5</td>\n      <td>1</td>\n      <td>0</td>\n    </tr>\n    <tr>\n      <th>...</th>\n      <td>...</td>\n      <td>...</td>\n      <td>...</td>\n      <td>...</td>\n      <td>...</td>\n      <td>...</td>\n      <td>...</td>\n      <td>...</td>\n      <td>...</td>\n      <td>...</td>\n      <td>...</td>\n      <td>...</td>\n      <td>...</td>\n      <td>...</td>\n      <td>...</td>\n      <td>...</td>\n      <td>...</td>\n      <td>...</td>\n      <td>...</td>\n      <td>...</td>\n      <td>...</td>\n    </tr>\n    <tr>\n      <th>12679</th>\n      <td>55</td>\n      <td>0</td>\n      <td>1</td>\n      <td>0</td>\n      <td>0</td>\n      <td>1</td>\n      <td>0</td>\n      <td>0</td>\n      <td>3</td>\n      <td>0</td>\n      <td>...</td>\n      <td>2</td>\n      <td>1</td>\n      <td>21</td>\n      <td>6</td>\n      <td>5</td>\n      <td>4</td>\n      <td>4</td>\n      <td>0</td>\n      <td>1</td>\n      <td>0</td>\n    </tr>\n    <tr>\n      <th>12680</th>\n      <td>55</td>\n      <td>0</td>\n      <td>1</td>\n      <td>0</td>\n      <td>0</td>\n      <td>0</td>\n      <td>1</td>\n      <td>2</td>\n      <td>0</td>\n      <td>0</td>\n      <td>...</td>\n      <td>2</td>\n      <td>1</td>\n      <td>21</td>\n      <td>6</td>\n      <td>5</td>\n      <td>4</td>\n      <td>4</td>\n      <td>0</td>\n      <td>1</td>\n      <td>0</td>\n    </tr>\n    <tr>\n      <th>12681</th>\n      <td>30</td>\n      <td>0</td>\n      <td>1</td>\n      <td>0</td>\n      <td>0</td>\n      <td>1</td>\n      <td>0</td>\n      <td>2</td>\n      <td>0</td>\n      <td>1</td>\n      <td>...</td>\n      <td>2</td>\n      <td>1</td>\n      <td>21</td>\n      <td>6</td>\n      <td>5</td>\n      <td>4</td>\n      <td>4</td>\n      <td>0</td>\n      <td>1</td>\n      <td>0</td>\n    </tr>\n    <tr>\n      <th>12682</th>\n      <td>30</td>\n      <td>0</td>\n      <td>1</td>\n      <td>1</td>\n      <td>1</td>\n      <td>0</td>\n      <td>1</td>\n      <td>2</td>\n      <td>0</td>\n      <td>1</td>\n      <td>...</td>\n      <td>2</td>\n      <td>1</td>\n      <td>21</td>\n      <td>6</td>\n      <td>5</td>\n      <td>4</td>\n      <td>4</td>\n      <td>0</td>\n      <td>1</td>\n      <td>0</td>\n    </tr>\n    <tr>\n      <th>12683</th>\n      <td>80</td>\n      <td>0</td>\n      <td>1</td>\n      <td>0</td>\n      <td>0</td>\n      <td>1</td>\n      <td>0</td>\n      <td>2</td>\n      <td>0</td>\n      <td>2</td>\n      <td>...</td>\n      <td>2</td>\n      <td>1</td>\n      <td>21</td>\n      <td>6</td>\n      <td>5</td>\n      <td>4</td>\n      <td>4</td>\n      <td>0</td>\n      <td>1</td>\n      <td>0</td>\n    </tr>\n  </tbody>\n</table>\n<p>12684 rows × 25 columns</p>\n</div>"
     },
     "execution_count": 133,
     "metadata": {},
     "output_type": "execute_result"
    }
   ],
   "source": [
    "X"
   ],
   "metadata": {
    "collapsed": false,
    "pycharm": {
     "name": "#%%\n"
    }
   }
  },
  {
   "cell_type": "code",
   "execution_count": 134,
   "outputs": [
    {
     "data": {
      "text/plain": "0        1\n1        0\n2        1\n3        0\n4        0\n        ..\n12679    1\n12680    1\n12681    0\n12682    0\n12683    0\nName: Y, Length: 12684, dtype: int64"
     },
     "execution_count": 134,
     "metadata": {},
     "output_type": "execute_result"
    }
   ],
   "source": [
    "y"
   ],
   "metadata": {
    "collapsed": false,
    "pycharm": {
     "name": "#%%\n"
    }
   }
  },
  {
   "cell_type": "code",
   "execution_count": 135,
   "outputs": [],
   "source": [
    "imputer = SimpleImputer(strategy='mean')"
   ],
   "metadata": {
    "collapsed": false,
    "pycharm": {
     "name": "#%%\n"
    }
   }
  },
  {
   "cell_type": "code",
   "execution_count": 136,
   "outputs": [],
   "source": [
    "imputer = imputer.fit(X)"
   ],
   "metadata": {
    "collapsed": false,
    "pycharm": {
     "name": "#%%\n"
    }
   }
  },
  {
   "cell_type": "code",
   "execution_count": 137,
   "outputs": [],
   "source": [
    "X = imputer.fit_transform(X)"
   ],
   "metadata": {
    "collapsed": false,
    "pycharm": {
     "name": "#%%\n"
    }
   }
  },
  {
   "cell_type": "code",
   "execution_count": 138,
   "outputs": [],
   "source": [
    "X_train, X_test, y_train, y_test = train_test_split(X, y, test_size=0.2, random_state=42)"
   ],
   "metadata": {
    "collapsed": false,
    "pycharm": {
     "name": "#%%\n"
    }
   }
  },
  {
   "cell_type": "code",
   "execution_count": 139,
   "outputs": [],
   "source": [
    "y_train = y_train.to_numpy().reshape(-1, 1)\n",
    "y_test = y_test.to_numpy().reshape(-1, 1)"
   ],
   "metadata": {
    "collapsed": false,
    "pycharm": {
     "name": "#%%\n"
    }
   }
  },
  {
   "cell_type": "code",
   "execution_count": 140,
   "outputs": [
    {
     "name": "stderr",
     "output_type": "stream",
     "text": [
      "/Users/daniyarkurmanbayev/Documents/GBC/mlenv/lib/python3.8/site-packages/sklearn/utils/validation.py:63: DataConversionWarning: A column-vector y was passed when a 1d array was expected. Please change the shape of y to (n_samples, ), for example using ravel().\n",
      "  return f(*args, **kwargs)\n",
      "/Users/daniyarkurmanbayev/Documents/GBC/mlenv/lib/python3.8/site-packages/sklearn/linear_model/_logistic.py:763: ConvergenceWarning: lbfgs failed to converge (status=1):\n",
      "STOP: TOTAL NO. of ITERATIONS REACHED LIMIT.\n",
      "\n",
      "Increase the number of iterations (max_iter) or scale the data as shown in:\n",
      "    https://scikit-learn.org/stable/modules/preprocessing.html\n",
      "Please also refer to the documentation for alternative solver options:\n",
      "    https://scikit-learn.org/stable/modules/linear_model.html#logistic-regression\n",
      "  n_iter_i = _check_optimize_result(\n"
     ]
    }
   ],
   "source": [
    "lr = LogisticRegression(random_state=42)\n",
    "\n",
    "lr_time_start = time.perf_counter()\n",
    "\n",
    "lr.fit(X_train, y_train)\n",
    "lr.predict(X_test)\n",
    "\n",
    "lr_time_end = time.perf_counter()\n",
    "\n",
    "lr_time = lr_time_end - lr_time_start"
   ],
   "metadata": {
    "collapsed": false,
    "pycharm": {
     "name": "#%%\n"
    }
   }
  },
  {
   "cell_type": "code",
   "execution_count": 141,
   "outputs": [
    {
     "name": "stderr",
     "output_type": "stream",
     "text": [
      "/Users/daniyarkurmanbayev/Documents/GBC/mlenv/lib/python3.8/site-packages/sklearn/neighbors/_classification.py:179: DataConversionWarning: A column-vector y was passed when a 1d array was expected. Please change the shape of y to (n_samples,), for example using ravel().\n",
      "  return self._fit(X, y)\n"
     ]
    }
   ],
   "source": [
    "knn = KNeighborsClassifier(n_neighbors=2)\n",
    "\n",
    "knn_time_start = time.perf_counter()\n",
    "\n",
    "knn.fit(X_train, y_train)\n",
    "knn.predict(X_test)\n",
    "\n",
    "knn_time_end = time.perf_counter()\n",
    "\n",
    "knn_time = knn_time_end - knn_time_start"
   ],
   "metadata": {
    "collapsed": false,
    "pycharm": {
     "name": "#%%\n"
    }
   }
  },
  {
   "cell_type": "code",
   "execution_count": 142,
   "outputs": [
    {
     "name": "stderr",
     "output_type": "stream",
     "text": [
      "/Users/daniyarkurmanbayev/Documents/GBC/mlenv/lib/python3.8/site-packages/sklearn/utils/validation.py:63: DataConversionWarning: A column-vector y was passed when a 1d array was expected. Please change the shape of y to (n_samples, ), for example using ravel().\n",
      "  return f(*args, **kwargs)\n"
     ]
    }
   ],
   "source": [
    "svc = SVC(random_state=42)\n",
    "\n",
    "svc_time_start = time.perf_counter()\n",
    "\n",
    "svc.fit(X_train, y_train)\n",
    "svc.predict(X_test)\n",
    "\n",
    "svc_time_end = time.perf_counter()\n",
    "\n",
    "svc_time = svc_time_end - svc_time_start"
   ],
   "metadata": {
    "collapsed": false,
    "pycharm": {
     "name": "#%%\n"
    }
   }
  },
  {
   "cell_type": "code",
   "execution_count": 143,
   "outputs": [],
   "source": [
    "dtf = DecisionTreeClassifier(random_state=42)\n",
    "\n",
    "dtf_time_start = time.perf_counter()\n",
    "\n",
    "dtf.fit(X_train, y_train)\n",
    "dtf.predict(X_test)\n",
    "\n",
    "dtf_time_end = time.perf_counter()\n",
    "\n",
    "dtf_time = dtf_time_end - dtf_time_start"
   ],
   "metadata": {
    "collapsed": false,
    "pycharm": {
     "name": "#%%\n"
    }
   }
  },
  {
   "cell_type": "code",
   "execution_count": 144,
   "outputs": [
    {
     "name": "stderr",
     "output_type": "stream",
     "text": [
      "/var/folders/1b/216kmv2s3731399_bt742lgw0000gn/T/ipykernel_13358/3378031463.py:5: DataConversionWarning: A column-vector y was passed when a 1d array was expected. Please change the shape of y to (n_samples,), for example using ravel().\n",
      "  rfc.fit(X_train, y_train)\n"
     ]
    }
   ],
   "source": [
    "rfc = RandomForestClassifier(n_estimators=100, random_state=42)\n",
    "\n",
    "rfc_time_start = time.perf_counter()\n",
    "\n",
    "rfc.fit(X_train, y_train)\n",
    "rfc.predict(X_test)\n",
    "\n",
    "rfc_time_end = time.perf_counter()\n",
    "\n",
    "rfc_time = rfc_time_end - rfc_time_start"
   ],
   "metadata": {
    "collapsed": false,
    "pycharm": {
     "name": "#%%\n"
    }
   }
  },
  {
   "cell_type": "code",
   "execution_count": 145,
   "outputs": [
    {
     "data": {
      "text/plain": "array(['svc_time', 'rfc_time', 'knn_time', 'lr_time', 'dtf_time'],\n      dtype='<U8')"
     },
     "execution_count": 145,
     "metadata": {},
     "output_type": "execute_result"
    }
   ],
   "source": [
    "times_names = ['lr_time', 'knn_time', 'svc_time', 'dtf_time', 'rfc_time']\n",
    "times = [lr_time, knn_time, svc_time, dtf_time, rfc_time]\n",
    "\n",
    "times_sorted = np.argsort(times)\n",
    "np.array(times_names)[times_sorted[::-1]]\n",
    "\n"
   ],
   "metadata": {
    "collapsed": false,
    "pycharm": {
     "name": "#%%\n"
    }
   }
  }
 ],
 "metadata": {
  "kernelspec": {
   "display_name": "Python 3",
   "language": "python",
   "name": "python3"
  },
  "language_info": {
   "codemirror_mode": {
    "name": "ipython",
    "version": 2
   },
   "file_extension": ".py",
   "mimetype": "text/x-python",
   "name": "python",
   "nbconvert_exporter": "python",
   "pygments_lexer": "ipython2",
   "version": "2.7.6"
  }
 },
 "nbformat": 4,
 "nbformat_minor": 0
}